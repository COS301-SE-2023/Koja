{
 "cells": [
  {
   "cell_type": "code",
   "execution_count": 2,
   "id": "c48adb31-2ee3-44fa-a540-b246a582fe3d",
   "metadata": {
    "editable": true,
    "slideshow": {
     "slide_type": ""
    },
    "tags": []
   },
   "outputs": [],
   "source": [
    "import pandas as pd\n",
    "import nltk\n",
    "from nltk.corpus import stopwords\n",
    "from nltk.tokenize import word_tokenize\n",
    "from nltk.stem import PorterStemmer\n",
    "from sklearn.model_selection import train_test_split\n",
    "from sklearn.metrics import classification_report\n",
    "from sklearn.preprocessing import LabelEncoder\n",
    "from transformers import BertTokenizer, TFBertModel\n",
    "from sklearn.linear_model import LogisticRegression\n",
    "import tensorflow as tf\n",
    "\n",
    "category_map = {\n",
    "    'Birding': 'Birding',\n",
    "    'Nature': 'Nature',\n",
    "    'Arts & Crafts': 'Arts',\n",
    "    'Concerts': 'Concerts',\n",
    "    'Dance': 'Dance',\n",
    "    'Best for Kids': 'Kids',\n",
    "    'Free Summer Concerts': 'Concerts',\n",
    "    'Games': 'Games',\n",
    "    'Volunteer': 'Volunteer',\n",
    "    'Waterfront': 'Waterfront',\n",
    "    'Fitness': 'Fitness',\n",
    "    'Food': 'Food',\n",
    "    'Outdoor Fitness': 'Fitness',\n",
    "    'Education': 'Education',\n",
    "    'Festivals': 'Festivals',\n",
    "    'Fall Festivals': 'Festivals',\n",
    "    'GreenThumb Events': 'Community Events',\n",
    "    'GreenThumb Workshops': 'Workshops',\n",
    "    'GreenThumb Partner Events': 'Community Events',\n",
    "    'History': 'History',\n",
    "    'Tours': 'Tours',\n",
    "    'Northern Manhattan Parks': 'Nature',\n",
    "    'Fort Tryon Park Trust': 'Nature',\n",
    "    'Talks': 'Talks',\n",
    "    'Art': 'Arts',\n",
    "    'Dogs': 'Dogs',\n",
    "    'MillionTreesNYC: Volunteer: Tree Stewardship and Care': 'Volunteer',\n",
    "    'Historic House Trust Sites': 'History',\n",
    "    'Seniors': 'Seniors',\n",
    "    'Halloween': 'Holidays',\n",
    "    'Freshkills Park': 'Nature',\n",
    "    'Freshkills Featured Events': 'Community Events',\n",
    "    'Freshkills Tours': 'Tours',\n",
    "    'Theater': 'Theater',\n",
    "    'Film': 'Film',\n",
    "    'MillionTreesNYC: Volunteer: Tree Planting': 'Volunteer',\n",
    "    'Historic House Trust Festival': 'Festivals',\n",
    "    'Sports': 'Sports',\n",
    "    'Astronomy': 'Astronomy',\n",
    "    'Arts, Culture & Fun Series': 'Arts',\n",
    "    'Pumpkin Fest': 'Festivals',\n",
    "    'Winter Holidays': 'Holidays',\n",
    "    'Fall Foliage': 'Nature',\n",
    "    'Accessible': 'Accessible',\n",
    "    'Reforestation Stewardship': 'Nature',\n",
    "    \"It's My Park\": 'Nature',\n",
    "    'Urban Park Rangers': 'Community Events',\n",
    "    'Thanksgiving': 'Holidays',\n",
    "    \"New Year's Eve\": 'Holidays',\n",
    "    'Poe Park Visitor Center': 'Nature',\n",
    "    'City Parks Foundation': 'Community Events',\n",
    "    'Markets': 'Markets',\n",
    "    'Black History Month': 'Cultural Celebrations',\n",
    "    \"Saint Patrick's Day\": 'Cultural Celebrations',\n",
    "    \"Valentine's Day\": 'Cultural Celebrations',\n",
    "    'Bike Month NYC': 'Sports',\n",
    "    'Earth Day & Arbor Day': 'Cultural Celebrations',\n",
    "    'Girls and Women in Sports': 'Sports',\n",
    "    \"Women's History Month\": 'Cultural Celebrations',\n",
    "    'Easter': 'Cultural Celebrations',\n",
    "    'Fishing': 'Fishing',\n",
    "    \"Mother's Day\": 'Cultural Celebrations',\n",
    "    'Summer on the Hudson': 'Water Sports',\n",
    "    'Free Summer Movies': 'Film',\n",
    "    'Free Summer Theater': 'Theater',\n",
    "    'Shape Up New York': 'Fitness',\n",
    "    'Learn To Ride': 'Sports',\n",
    "    'Holiday Lightings': 'Holidays',\n",
    "    'School Break': 'Kids',\n",
    "    'Kids Week': 'Kids',\n",
    "    'Kayaking and Canoeing': 'Water Sports',\n",
    "    \"Father's Day\": 'Cultural Celebrations',\n",
    "    'SummerStage': 'Concerts',\n",
    "    'CityParks Kids Arts': 'Kids',\n",
    "    'Mobile Recreation Van Event': 'Community Events',\n",
    "    'Wildflower Week': 'Nature',\n",
    "    'Fourth of July': 'Cultural Celebrations',\n",
    "    'LGBTQ Pride Month': 'Cultural Celebrations',\n",
    "    'Partnerships for Parks Tree Workshops': 'Workshops',\n",
    "    'Martin Luther King Jr. Day of Service': 'Cultural Celebrations',\n",
    "    'Open House New York': 'Community Events',\n",
    "    'Shakespeare in the Parks': 'Theater',\n",
    "    'Running': 'Sports',\n",
    "    'Forest Park Trust': 'Nature',\n",
    "    'Summer Sports Experience': 'Sports',\n",
    "    'Bocce Tournament': 'Games',\n",
    "    \"Santa's Coming to Town\": 'Holidays',\n",
    "    'City Parks Foundation Adults': 'Community Events',\n",
    "    'Partnerships for Parks Training and Grant Deadlines': 'Community Events',\n",
    "    'Community Input Meetings': 'Community Events',\n",
    "    'D/M/WBE': 'Community Events',\n",
    "    'Lunar New Year': 'Cultural Celebrations',\n",
    "    'Hiking': 'Hiking',\n",
    "    'Family Camping': 'Camping',\n",
    "    'Fireworks': 'Holidays',\n",
    "    'Ocean Breeze Summer Fitness': 'Fitness',\n",
    "    'Wildlife': 'Wildlife',\n",
    "    'Movies Under the Stars': 'Outdoor Movies',\n",
    "    'National Night Out': 'Community Events',\n",
    "    'Ocean Breeze Track & Field Athletic Complex': 'Sports',\n",
    "    'Living With Deer in New York City': 'Wildlife',\n",
    "    'Bronx River Greenway': 'Nature',\n",
    "    'Cherry Blossom Festivals': 'Festivals',\n",
    "    'CityParks PuppetMobile': 'Kids',\n",
    "    'Art in the Parks: UNIQLO Park Expressions Grant': 'Arts',\n",
    "    'Parks Without Borders': 'Nature',\n",
    "    'Community Parks Initiative': 'Community Events',\n",
    "    'Anchor Parks': 'Nature',\n",
    "    \"She's On Point\": 'Sports',\n",
    "    'National Trails Day': 'Nature',\n",
    "    'NYC Parks Senior Games': 'Sports',\n",
    "    'Hispanic Heritage Month': 'Cultural Celebrations',\n",
    "    'City of Water Day': 'Cultural Celebrations',\n",
    "    'Art in the Parks: Celebrating 50 Years': 'Arts',\n",
    "    'Brooklyn Beach Sports Festival': 'Sports',\n",
    "    'Youth Tech Workshops': 'Workshops',\n",
    "    'Native American Heritage Month': 'Cultural Celebrations',\n",
    "    'GreenThumb 40th Anniversary': 'Community Events',\n",
    "    'My Summer House NYC': 'Community Events',\n",
    "    'Rockaway Beach': 'Waterfront',\n",
    "    'Cool Pools NYC': 'Community Events',\n",
    "    'Recreation Center Open House': 'Community Events',\n",
    "    'Workshops': 'Workshops',\n",
    "    'Dogs in Parks: Town Hall': 'Community Events',\n",
    "    'Summer Solstice Celebrations': 'Cultural Celebrations',\n",
    "    'Veterans Day': 'Cultural Celebrations',\n",
    "}"
   ]
  },
  {
   "cell_type": "code",
   "execution_count": 3,
   "id": "a68fbc93-44df-43f9-9957-0745a5d91ebd",
   "metadata": {
    "editable": true,
    "slideshow": {
     "slide_type": ""
    },
    "tags": []
   },
   "outputs": [
    {
     "name": "stderr",
     "output_type": "stream",
     "text": [
      "[nltk_data] Downloading package punkt to\n",
      "[nltk_data]     C:\\Users\\vanzy\\AppData\\Roaming\\nltk_data...\n",
      "[nltk_data]   Package punkt is already up-to-date!\n",
      "[nltk_data] Downloading package stopwords to\n",
      "[nltk_data]     C:\\Users\\vanzy\\AppData\\Roaming\\nltk_data...\n",
      "[nltk_data]   Package stopwords is already up-to-date!\n"
     ]
    },
    {
     "data": {
      "text/plain": [
       "True"
      ]
     },
     "execution_count": 3,
     "metadata": {},
     "output_type": "execute_result"
    }
   ],
   "source": [
    "nltk.download('punkt')\n",
    "nltk.download('stopwords')"
   ]
  },
  {
   "cell_type": "code",
   "execution_count": 19,
   "id": "b9bd318f-d2cd-4127-9b8b-942a487d6c91",
   "metadata": {
    "editable": true,
    "slideshow": {
     "slide_type": ""
    },
    "tags": []
   },
   "outputs": [
    {
     "name": "stderr",
     "output_type": "stream",
     "text": [
      "Some weights of the PyTorch model were not used when initializing the TF 2.0 model TFBertModel: ['cls.predictions.bias', 'cls.predictions.transform.LayerNorm.bias', 'cls.predictions.transform.dense.bias', 'cls.seq_relationship.bias', 'cls.seq_relationship.weight', 'cls.predictions.transform.dense.weight', 'cls.predictions.transform.LayerNorm.weight']\n",
      "- This IS expected if you are initializing TFBertModel from a PyTorch model trained on another task or with another architecture (e.g. initializing a TFBertForSequenceClassification model from a BertForPreTraining model).\n",
      "- This IS NOT expected if you are initializing TFBertModel from a PyTorch model that you expect to be exactly identical (e.g. initializing a TFBertForSequenceClassification model from a BertForSequenceClassification model).\n",
      "All the weights of TFBertModel were initialized from the PyTorch model.\n",
      "If your task is similar to the task the model of the checkpoint was trained on, you can already use TFBertModel for predictions without further training.\n"
     ]
    }
   ],
   "source": [
    "tokenizer = BertTokenizer.from_pretrained('bert-base-uncased')\n",
    "model = TFBertModel.from_pretrained('bert-base-uncased')\n",
    "\n",
    "def bert_feature_extraction(text):\n",
    "    with tf.device('/GPU:0'):\n",
    "        inputs = tokenizer.encode_plus(text, return_tensors='tf', add_special_tokens=True, max_length=250, truncation=True, padding='max_length')\n",
    "        outputs = model(inputs)\n",
    "        return outputs.last_hidden_state[:,0,:].numpy()"
   ]
  },
  {
   "cell_type": "code",
   "execution_count": 26,
   "id": "b8acc025-f7d4-40c1-a067-7ab7ad19c32a",
   "metadata": {
    "editable": true,
    "slideshow": {
     "slide_type": ""
    },
    "tags": []
   },
   "outputs": [
    {
     "name": "stderr",
     "output_type": "stream",
     "text": [
      "C:\\Users\\vanzy\\AppData\\Local\\Temp\\ipykernel_28532\\3872348565.py:10: SettingWithCopyWarning: \n",
      "A value is trying to be set on a copy of a slice from a DataFrame.\n",
      "Try using .loc[row_indexer,col_indexer] = value instead\n",
      "\n",
      "See the caveats in the documentation: https://pandas.pydata.org/pandas-docs/stable/user_guide/indexing.html#returning-a-view-versus-a-copy\n",
      "  merged_data_cleaned['new_category_name'] = merged_data_cleaned['name'].apply(get_new_category_name)\n",
      "C:\\Users\\vanzy\\AppData\\Local\\Temp\\ipykernel_28532\\3872348565.py:11: SettingWithCopyWarning: \n",
      "A value is trying to be set on a copy of a slice from a DataFrame.\n",
      "Try using .loc[row_indexer,col_indexer] = value instead\n",
      "\n",
      "See the caveats in the documentation: https://pandas.pydata.org/pandas-docs/stable/user_guide/indexing.html#returning-a-view-versus-a-copy\n",
      "  merged_data_cleaned['concat_event_name'] = merged_data_cleaned['title'] + \" \" + merged_data_cleaned['snippet']\n"
     ]
    }
   ],
   "source": [
    "def get_new_category_name(old_category_name):\n",
    "    return category_map.get(old_category_name, \"Other\")\n",
    "    \n",
    "event_categories = pd.read_csv(r'C:\\Users\\vanzy\\OneDrive\\Documents\\Notebooks\\NYC_Parks_Events_Listing___Event_Categories.csv')\n",
    "event_categories_unique = event_categories.drop_duplicates(subset='event_id')\n",
    "event_listing = pd.read_csv(r'C:\\Users\\vanzy\\OneDrive\\Documents\\Notebooks\\NYC_Parks_Events_Listing___Event_Listing.csv')\n",
    "merged_data = pd.merge(event_categories_unique, event_listing, on=\"event_id\", how=\"left\")\n",
    "merged_data_cleaned = merged_data.dropna()\n",
    "\n",
    "merged_data_cleaned['new_category_name'] = merged_data_cleaned['name'].apply(get_new_category_name)\n",
    "merged_data_cleaned['concat_event_name'] = merged_data_cleaned['title'] + \" \" + merged_data_cleaned['snippet']\n",
    "\n",
    "events = list(zip(merged_data_cleaned['concat_event_name'], merged_data_cleaned['new_category_name']))\n",
    "event_names, labels = zip(*events)"
   ]
  },
  {
   "cell_type": "code",
   "execution_count": 27,
   "id": "ba962411-168b-4a01-adaf-8f1636969806",
   "metadata": {
    "editable": true,
    "slideshow": {
     "slide_type": ""
    },
    "tags": []
   },
   "outputs": [
    {
     "name": "stdout",
     "output_type": "stream",
     "text": [
      "Event Names: ('Bird Walks at The New York Botanical Garden The diverse habitats of the Botanical Garden offer visitors a chance to see dozens of species of birds throughout the year. Bring your binoculars and walk the Garden grounds with an expert.', 'Bird Walks at The New York Botanical Garden The diverse habitats of the Botanical Garden offer visitors a chance to see dozens of species of birds throughout the year. Bring your binoculars and walk the Garden grounds with an expert.', 'Bird Walks at The New York Botanical Garden The diverse habitats of the Botanical Garden offer visitors a chance to see dozens of species of birds throughout the year. Bring your binoculars and walk the Garden grounds with an expert.', 'Bird Walks at The New York Botanical Garden The diverse habitats of the Botanical Garden offer visitors a chance to see dozens of species of birds throughout the year. Bring your binoculars and walk the Garden grounds with an expert.', 'Bird Walks at The New York Botanical Garden The diverse habitats of the Botanical Garden offer visitors a chance to see dozens of species of birds throughout the year. Bring your binoculars and walk the Garden grounds with an expert.')\n",
      "Labels: ('Birding', 'Birding', 'Birding', 'Birding', 'Birding')\n"
     ]
    }
   ],
   "source": [
    "print(\"Event Names:\", event_names[:5])  # Display first 5 event names\n",
    "print(\"Labels:\", labels[:5])  # Display first 5 labels"
   ]
  },
  {
   "cell_type": "code",
   "execution_count": 28,
   "id": "764203b0-fab8-4f17-a725-b3dd097f4699",
   "metadata": {
    "editable": true,
    "slideshow": {
     "slide_type": ""
    },
    "tags": []
   },
   "outputs": [],
   "source": [
    "def preprocess_text(text):\n",
    "    if not isinstance(text, str):\n",
    "        text = str(text)\n",
    "\n",
    "    tokens = word_tokenize(text)\n",
    "    \n",
    "    stop_words = set(stopwords.words('english'))\n",
    "    tokens = [word for word in tokens if word.lower() not in stop_words]\n",
    "    \n",
    "    ps = PorterStemmer()\n",
    "    tokens = [ps.stem(word) for word in tokens]\n",
    "    \n",
    "    return ' '.join(tokens)\n",
    "\n",
    "event_names_preprocessed = [preprocess_text(name) for name in event_names]"
   ]
  },
  {
   "cell_type": "code",
   "execution_count": 29,
   "id": "f4340a24-3b68-499b-a1cb-18842c0be68c",
   "metadata": {
    "editable": true,
    "slideshow": {
     "slide_type": ""
    },
    "tags": []
   },
   "outputs": [
    {
     "name": "stdout",
     "output_type": "stream",
     "text": [
      "['bird walk new york botan garden divers habitat botan garden offer visitor chanc see dozen speci bird throughout year . bring binocular walk garden ground expert .', 'bird walk new york botan garden divers habitat botan garden offer visitor chanc see dozen speci bird throughout year . bring binocular walk garden ground expert .', 'bird walk new york botan garden divers habitat botan garden offer visitor chanc see dozen speci bird throughout year . bring binocular walk garden ground expert .', 'bird walk new york botan garden divers habitat botan garden offer visitor chanc see dozen speci bird throughout year . bring binocular walk garden ground expert .', 'bird walk new york botan garden divers habitat botan garden offer visitor chanc see dozen speci bird throughout year . bring binocular walk garden ground expert .']\n"
     ]
    }
   ],
   "source": [
    "print(event_names_preprocessed[:5])"
   ]
  },
  {
   "cell_type": "code",
   "execution_count": 30,
   "id": "d223cfdd-ef9b-4cb1-a92c-0dcac3320cf2",
   "metadata": {
    "editable": true,
    "slideshow": {
     "slide_type": ""
    },
    "tags": []
   },
   "outputs": [],
   "source": [
    "grouped_data = merged_data_cleaned.groupby('new_category_name')\n",
    "train_data = []\n",
    "test_data = []"
   ]
  },
  {
   "cell_type": "code",
   "execution_count": 32,
   "id": "3af9fe05-b628-48c6-a596-ad2bd5064d70",
   "metadata": {
    "editable": true,
    "slideshow": {
     "slide_type": ""
    },
    "tags": []
   },
   "outputs": [],
   "source": [
    "for name, group in grouped_data:\n",
    "    selected_samples = group\n",
    "\n",
    "    event_names_in_group = selected_samples['concat_event_name'].apply(preprocess_text)\n",
    "    labels_in_group = selected_samples['new_category_name']\n",
    "\n",
    "    X_group = [bert_feature_extraction(text) for text in event_names_in_group]\n",
    "    X_group = [item[0] for item in X_group]\n",
    "\n",
    "    if len(X_group) > 1:\n",
    "        X_train_group, X_test_group, y_train_group, y_test_group = train_test_split(X_group, labels_in_group, test_size=0.2, random_state=42)\n",
    "        train_data.extend(list(zip(X_train_group, y_train_group)))\n",
    "        test_data.extend(list(zip(X_test_group, y_test_group)))\n",
    "    else:\n",
    "        # If there is only one sample in the group, add it to the training data\n",
    "        train_data.extend(list(zip(X_group, labels_in_group)))\n",
    "\n",
    "X_train, y_train = zip(*train_data)\n",
    "X_test, y_test = zip(*test_data)"
   ]
  },
  {
   "cell_type": "code",
   "execution_count": 33,
   "id": "63ad3d77-64da-4c30-ac75-16b560a02965",
   "metadata": {
    "editable": true,
    "slideshow": {
     "slide_type": ""
    },
    "tags": []
   },
   "outputs": [
    {
     "data": {
      "text/html": [
       "<style>#sk-container-id-4 {color: black;}#sk-container-id-4 pre{padding: 0;}#sk-container-id-4 div.sk-toggleable {background-color: white;}#sk-container-id-4 label.sk-toggleable__label {cursor: pointer;display: block;width: 100%;margin-bottom: 0;padding: 0.3em;box-sizing: border-box;text-align: center;}#sk-container-id-4 label.sk-toggleable__label-arrow:before {content: \"▸\";float: left;margin-right: 0.25em;color: #696969;}#sk-container-id-4 label.sk-toggleable__label-arrow:hover:before {color: black;}#sk-container-id-4 div.sk-estimator:hover label.sk-toggleable__label-arrow:before {color: black;}#sk-container-id-4 div.sk-toggleable__content {max-height: 0;max-width: 0;overflow: hidden;text-align: left;background-color: #f0f8ff;}#sk-container-id-4 div.sk-toggleable__content pre {margin: 0.2em;color: black;border-radius: 0.25em;background-color: #f0f8ff;}#sk-container-id-4 input.sk-toggleable__control:checked~div.sk-toggleable__content {max-height: 200px;max-width: 100%;overflow: auto;}#sk-container-id-4 input.sk-toggleable__control:checked~label.sk-toggleable__label-arrow:before {content: \"▾\";}#sk-container-id-4 div.sk-estimator input.sk-toggleable__control:checked~label.sk-toggleable__label {background-color: #d4ebff;}#sk-container-id-4 div.sk-label input.sk-toggleable__control:checked~label.sk-toggleable__label {background-color: #d4ebff;}#sk-container-id-4 input.sk-hidden--visually {border: 0;clip: rect(1px 1px 1px 1px);clip: rect(1px, 1px, 1px, 1px);height: 1px;margin: -1px;overflow: hidden;padding: 0;position: absolute;width: 1px;}#sk-container-id-4 div.sk-estimator {font-family: monospace;background-color: #f0f8ff;border: 1px dotted black;border-radius: 0.25em;box-sizing: border-box;margin-bottom: 0.5em;}#sk-container-id-4 div.sk-estimator:hover {background-color: #d4ebff;}#sk-container-id-4 div.sk-parallel-item::after {content: \"\";width: 100%;border-bottom: 1px solid gray;flex-grow: 1;}#sk-container-id-4 div.sk-label:hover label.sk-toggleable__label {background-color: #d4ebff;}#sk-container-id-4 div.sk-serial::before {content: \"\";position: absolute;border-left: 1px solid gray;box-sizing: border-box;top: 0;bottom: 0;left: 50%;z-index: 0;}#sk-container-id-4 div.sk-serial {display: flex;flex-direction: column;align-items: center;background-color: white;padding-right: 0.2em;padding-left: 0.2em;position: relative;}#sk-container-id-4 div.sk-item {position: relative;z-index: 1;}#sk-container-id-4 div.sk-parallel {display: flex;align-items: stretch;justify-content: center;background-color: white;position: relative;}#sk-container-id-4 div.sk-item::before, #sk-container-id-4 div.sk-parallel-item::before {content: \"\";position: absolute;border-left: 1px solid gray;box-sizing: border-box;top: 0;bottom: 0;left: 50%;z-index: -1;}#sk-container-id-4 div.sk-parallel-item {display: flex;flex-direction: column;z-index: 1;position: relative;background-color: white;}#sk-container-id-4 div.sk-parallel-item:first-child::after {align-self: flex-end;width: 50%;}#sk-container-id-4 div.sk-parallel-item:last-child::after {align-self: flex-start;width: 50%;}#sk-container-id-4 div.sk-parallel-item:only-child::after {width: 0;}#sk-container-id-4 div.sk-dashed-wrapped {border: 1px dashed gray;margin: 0 0.4em 0.5em 0.4em;box-sizing: border-box;padding-bottom: 0.4em;background-color: white;}#sk-container-id-4 div.sk-label label {font-family: monospace;font-weight: bold;display: inline-block;line-height: 1.2em;}#sk-container-id-4 div.sk-label-container {text-align: center;}#sk-container-id-4 div.sk-container {/* jupyter's `normalize.less` sets `[hidden] { display: none; }` but bootstrap.min.css set `[hidden] { display: none !important; }` so we also need the `!important` here to be able to override the default hidden behavior on the sphinx rendered scikit-learn.org. See: https://github.com/scikit-learn/scikit-learn/issues/21755 */display: inline-block !important;position: relative;}#sk-container-id-4 div.sk-text-repr-fallback {display: none;}</style><div id=\"sk-container-id-4\" class=\"sk-top-container\"><div class=\"sk-text-repr-fallback\"><pre>LogisticRegression(max_iter=2000)</pre><b>In a Jupyter environment, please rerun this cell to show the HTML representation or trust the notebook. <br />On GitHub, the HTML representation is unable to render, please try loading this page with nbviewer.org.</b></div><div class=\"sk-container\" hidden><div class=\"sk-item\"><div class=\"sk-estimator sk-toggleable\"><input class=\"sk-toggleable__control sk-hidden--visually\" id=\"sk-estimator-id-4\" type=\"checkbox\" checked><label for=\"sk-estimator-id-4\" class=\"sk-toggleable__label sk-toggleable__label-arrow\">LogisticRegression</label><div class=\"sk-toggleable__content\"><pre>LogisticRegression(max_iter=2000)</pre></div></div></div></div></div>"
      ],
      "text/plain": [
       "LogisticRegression(max_iter=2000)"
      ]
     },
     "execution_count": 33,
     "metadata": {},
     "output_type": "execute_result"
    }
   ],
   "source": [
    "classifier = LogisticRegression(max_iter=2000)\n",
    "classifier.fit(X_train, y_train)"
   ]
  },
  {
   "cell_type": "code",
   "execution_count": 34,
   "id": "c1541a0e-9bef-4f21-870f-5c91b1628d01",
   "metadata": {
    "editable": true,
    "slideshow": {
     "slide_type": ""
    },
    "tags": []
   },
   "outputs": [
    {
     "name": "stdout",
     "output_type": "stream",
     "text": [
      "                  precision    recall  f1-score   support\n",
      "\n",
      "      Accessible       0.60      0.75      0.67        16\n",
      "            Arts       0.89      1.00      0.94        78\n",
      "         Birding       1.00      1.00      1.00        14\n",
      "Community Events       0.40      0.40      0.40        10\n",
      "        Concerts       0.67      0.67      0.67         6\n",
      "           Dance       1.00      0.67      0.80         6\n",
      "            Dogs       1.00      0.00      0.00         2\n",
      "       Education       0.52      0.87      0.65       154\n",
      "       Festivals       1.00      1.00      1.00         2\n",
      "         Fitness       0.67      0.67      0.67        12\n",
      "            Food       1.00      0.00      0.00         4\n",
      "           Games       1.00      0.67      0.80         6\n",
      "         History       0.32      0.14      0.19        58\n",
      "        Holidays       1.00      0.00      0.00         6\n",
      "            Kids       0.67      0.80      0.73        10\n",
      "         Markets       1.00      0.00      0.00         2\n",
      "          Nature       0.71      0.64      0.67       110\n",
      "         Seniors       1.00      0.00      0.00        18\n",
      "          Sports       0.00      0.00      1.00         6\n",
      "           Talks       1.00      0.00      0.00         2\n",
      "           Tours       1.00      0.00      0.00        37\n",
      "       Volunteer       0.33      0.50      0.40         2\n",
      "    Water Sports       1.00      0.00      0.00         1\n",
      "\n",
      "        accuracy                           0.62       562\n",
      "       macro avg       0.77      0.42      0.46       562\n",
      "    weighted avg       0.67      0.62      0.58       562\n",
      "\n"
     ]
    }
   ],
   "source": [
    "y_pred = classifier.predict(X_test)\n",
    "\n",
    "label_encoder = LabelEncoder()\n",
    "y_true_encoded = label_encoder.fit_transform(y_test)\n",
    "y_pred_encoded = label_encoder.transform(y_pred)\n",
    "\n",
    "print(classification_report(y_true_encoded, y_pred_encoded, target_names=label_encoder.classes_, zero_division=1))"
   ]
  },
  {
   "cell_type": "code",
   "execution_count": 35,
   "id": "065bb472-4766-4708-8a70-561898c33216",
   "metadata": {},
   "outputs": [
    {
     "data": {
      "text/plain": [
       "['KOJA-CR.joblib']"
      ]
     },
     "execution_count": 35,
     "metadata": {},
     "output_type": "execute_result"
    }
   ],
   "source": [
    "from joblib import dump\n",
    "\n",
    "# Save the model to a file\n",
    "dump(classifier, 'KOJA-CR.joblib')"
   ]
  },
  {
   "cell_type": "code",
   "execution_count": null,
   "id": "f4e97216-d024-454a-b785-6dfe908b0a30",
   "metadata": {},
   "outputs": [],
   "source": []
  }
 ],
 "metadata": {
  "kernelspec": {
   "display_name": "Python 3 (ipykernel)",
   "language": "python",
   "name": "python3"
  },
  "language_info": {
   "codemirror_mode": {
    "name": "ipython",
    "version": 3
   },
   "file_extension": ".py",
   "mimetype": "text/x-python",
   "name": "python",
   "nbconvert_exporter": "python",
   "pygments_lexer": "ipython3",
   "version": "3.11.0"
  }
 },
 "nbformat": 4,
 "nbformat_minor": 5
}
