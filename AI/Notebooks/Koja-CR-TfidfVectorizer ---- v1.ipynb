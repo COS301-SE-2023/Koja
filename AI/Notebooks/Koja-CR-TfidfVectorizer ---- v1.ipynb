{
 "cells": [
  {
   "cell_type": "code",
   "execution_count": 1,
   "id": "c48adb31-2ee3-44fa-a540-b246a582fe3d",
   "metadata": {
    "editable": true,
    "slideshow": {
     "slide_type": ""
    },
    "tags": []
   },
   "outputs": [],
   "source": [
    "import pandas as pd\n",
    "import nltk\n",
    "from nltk.corpus import stopwords\n",
    "from nltk.tokenize import word_tokenize\n",
    "from nltk.stem import PorterStemmer\n",
    "from IPython.display import display\n",
    "from sklearn.feature_extraction.text import TfidfVectorizer\n",
    "from sklearn.model_selection import train_test_split\n",
    "from nltk.classify import NaiveBayesClassifier\n",
    "from nltk.classify.util import accuracy\n",
    "from sklearn.metrics import classification_report\n",
    "from sklearn.preprocessing import LabelEncoder\n",
    "\n",
    "category_map = {\n",
    "    'Birding': 'Birding',\n",
    "    'Nature': 'Nature',\n",
    "    'Arts & Crafts': 'Arts',\n",
    "    'Concerts': 'Concerts',\n",
    "    'Dance': 'Dance',\n",
    "    'Best for Kids': 'Kids',\n",
    "    'Free Summer Concerts': 'Concerts',\n",
    "    'Games': 'Games',\n",
    "    'Volunteer': 'Volunteer',\n",
    "    'Waterfront': 'Waterfront',\n",
    "    'Fitness': 'Fitness',\n",
    "    'Food': 'Food',\n",
    "    'Outdoor Fitness': 'Fitness',\n",
    "    'Education': 'Education',\n",
    "    'Festivals': 'Festivals',\n",
    "    'Fall Festivals': 'Festivals',\n",
    "    'GreenThumb Events': 'Community Events',\n",
    "    'GreenThumb Workshops': 'Workshops',\n",
    "    'GreenThumb Partner Events': 'Community Events',\n",
    "    'History': 'History',\n",
    "    'Tours': 'Tours',\n",
    "    'Northern Manhattan Parks': 'Nature',\n",
    "    'Fort Tryon Park Trust': 'Nature',\n",
    "    'Talks': 'Talks',\n",
    "    'Art': 'Arts',\n",
    "    'Dogs': 'Dogs',\n",
    "    'MillionTreesNYC: Volunteer: Tree Stewardship and Care': 'Volunteer',\n",
    "    'Historic House Trust Sites': 'History',\n",
    "    'Seniors': 'Seniors',\n",
    "    'Halloween': 'Holidays',\n",
    "    'Freshkills Park': 'Nature',\n",
    "    'Freshkills Featured Events': 'Community Events',\n",
    "    'Freshkills Tours': 'Tours',\n",
    "    'Theater': 'Theater',\n",
    "    'Film': 'Film',\n",
    "    'MillionTreesNYC: Volunteer: Tree Planting': 'Volunteer',\n",
    "    'Historic House Trust Festival': 'Festivals',\n",
    "    'Sports': 'Sports',\n",
    "    'Astronomy': 'Astronomy',\n",
    "    'Arts, Culture & Fun Series': 'Arts',\n",
    "    'Pumpkin Fest': 'Festivals',\n",
    "    'Winter Holidays': 'Holidays',\n",
    "    'Fall Foliage': 'Nature',\n",
    "    'Accessible': 'Accessible',\n",
    "    'Reforestation Stewardship': 'Nature',\n",
    "    \"It's My Park\": 'Nature',\n",
    "    'Urban Park Rangers': 'Community Events',\n",
    "    'Thanksgiving': 'Holidays',\n",
    "    \"New Year's Eve\": 'Holidays',\n",
    "    'Poe Park Visitor Center': 'Nature',\n",
    "    'City Parks Foundation': 'Community Events',\n",
    "    'Markets': 'Markets',\n",
    "    'Black History Month': 'Cultural Celebrations',\n",
    "    \"Saint Patrick's Day\": 'Cultural Celebrations',\n",
    "    \"Valentine's Day\": 'Cultural Celebrations',\n",
    "    'Bike Month NYC': 'Sports',\n",
    "    'Earth Day & Arbor Day': 'Cultural Celebrations',\n",
    "    'Girls and Women in Sports': 'Sports',\n",
    "    \"Women's History Month\": 'Cultural Celebrations',\n",
    "    'Easter': 'Cultural Celebrations',\n",
    "    'Fishing': 'Fishing',\n",
    "    \"Mother's Day\": 'Cultural Celebrations',\n",
    "    'Summer on the Hudson': 'Water Sports',\n",
    "    'Free Summer Movies': 'Film',\n",
    "    'Free Summer Theater': 'Theater',\n",
    "    'Shape Up New York': 'Fitness',\n",
    "    'Learn To Ride': 'Sports',\n",
    "    'Holiday Lightings': 'Holidays',\n",
    "    'School Break': 'Kids',\n",
    "    'Kids Week': 'Kids',\n",
    "    'Kayaking and Canoeing': 'Water Sports',\n",
    "    \"Father's Day\": 'Cultural Celebrations',\n",
    "    'SummerStage': 'Concerts',\n",
    "    'CityParks Kids Arts': 'Kids',\n",
    "    'Mobile Recreation Van Event': 'Community Events',\n",
    "    'Wildflower Week': 'Nature',\n",
    "    'Fourth of July': 'Cultural Celebrations',\n",
    "    'LGBTQ Pride Month': 'Cultural Celebrations',\n",
    "    'Partnerships for Parks Tree Workshops': 'Workshops',\n",
    "    'Martin Luther King Jr. Day of Service': 'Cultural Celebrations',\n",
    "    'Open House New York': 'Community Events',\n",
    "    'Shakespeare in the Parks': 'Theater',\n",
    "    'Running': 'Sports',\n",
    "    'Forest Park Trust': 'Nature',\n",
    "    'Summer Sports Experience': 'Sports',\n",
    "    'Bocce Tournament': 'Games',\n",
    "    \"Santa's Coming to Town\": 'Holidays',\n",
    "    'City Parks Foundation Adults': 'Community Events',\n",
    "    'Partnerships for Parks Training and Grant Deadlines': 'Community Events',\n",
    "    'Community Input Meetings': 'Community Events',\n",
    "    'D/M/WBE': 'Community Events',\n",
    "    'Lunar New Year': 'Cultural Celebrations',\n",
    "    'Hiking': 'Hiking',\n",
    "    'Family Camping': 'Camping',\n",
    "    'Fireworks': 'Holidays',\n",
    "    'Ocean Breeze Summer Fitness': 'Fitness',\n",
    "    'Wildlife': 'Wildlife',\n",
    "    'Movies Under the Stars': 'Outdoor Movies',\n",
    "    'National Night Out': 'Community Events',\n",
    "    'Ocean Breeze Track & Field Athletic Complex': 'Sports',\n",
    "    'Living With Deer in New York City': 'Wildlife',\n",
    "    'Bronx River Greenway': 'Nature',\n",
    "    'Cherry Blossom Festivals': 'Festivals',\n",
    "    'CityParks PuppetMobile': 'Kids',\n",
    "    'Art in the Parks: UNIQLO Park Expressions Grant': 'Arts',\n",
    "    'Parks Without Borders': 'Nature',\n",
    "    'Community Parks Initiative': 'Community Events',\n",
    "    'Anchor Parks': 'Nature',\n",
    "    \"She's On Point\": 'Sports',\n",
    "    'National Trails Day': 'Nature',\n",
    "    'NYC Parks Senior Games': 'Sports',\n",
    "    'Hispanic Heritage Month': 'Cultural Celebrations',\n",
    "    'City of Water Day': 'Cultural Celebrations',\n",
    "    'Art in the Parks: Celebrating 50 Years': 'Arts',\n",
    "    'Brooklyn Beach Sports Festival': 'Sports',\n",
    "    'Youth Tech Workshops': 'Workshops',\n",
    "    'Native American Heritage Month': 'Cultural Celebrations',\n",
    "    'GreenThumb 40th Anniversary': 'Community Events',\n",
    "    'My Summer House NYC': 'Community Events',\n",
    "    'Rockaway Beach': 'Waterfront',\n",
    "    'Cool Pools NYC': 'Community Events',\n",
    "    'Recreation Center Open House': 'Community Events',\n",
    "    'Workshops': 'Workshops',\n",
    "    'Dogs in Parks: Town Hall': 'Community Events',\n",
    "    'Summer Solstice Celebrations': 'Cultural Celebrations',\n",
    "    'Veterans Day': 'Cultural Celebrations',\n",
    "}"
   ]
  },
  {
   "cell_type": "code",
   "execution_count": 2,
   "id": "a68fbc93-44df-43f9-9957-0745a5d91ebd",
   "metadata": {
    "editable": true,
    "slideshow": {
     "slide_type": ""
    },
    "tags": []
   },
   "outputs": [
    {
     "name": "stderr",
     "output_type": "stream",
     "text": [
      "[nltk_data] Downloading package punkt to\n",
      "[nltk_data]     C:\\Users\\vanzy\\AppData\\Roaming\\nltk_data...\n",
      "[nltk_data]   Package punkt is already up-to-date!\n",
      "[nltk_data] Downloading package stopwords to\n",
      "[nltk_data]     C:\\Users\\vanzy\\AppData\\Roaming\\nltk_data...\n",
      "[nltk_data]   Package stopwords is already up-to-date!\n"
     ]
    },
    {
     "data": {
      "text/plain": [
       "True"
      ]
     },
     "execution_count": 2,
     "metadata": {},
     "output_type": "execute_result"
    }
   ],
   "source": [
    "nltk.download('punkt')\n",
    "nltk.download('stopwords')"
   ]
  },
  {
   "cell_type": "code",
   "execution_count": 24,
   "id": "b8acc025-f7d4-40c1-a067-7ab7ad19c32a",
   "metadata": {
    "editable": true,
    "slideshow": {
     "slide_type": ""
    },
    "tags": []
   },
   "outputs": [],
   "source": [
    "def get_new_category_name(old_category_name):\n",
    "    return category_map.get(old_category_name, \"Other\")\n",
    "    \n",
    "event_categories = pd.read_csv(r'C:\\Users\\vanzy\\OneDrive\\Documents\\Notebooks\\NYC_Parks_Events_Listing___Event_Categories.csv')\n",
    "event_categories_unique = event_categories.drop_duplicates(subset='event_id')\n",
    "event_listing = pd.read_csv(r'C:\\Users\\vanzy\\OneDrive\\Documents\\Notebooks\\NYC_Parks_Events_Listing___Event_Listing.csv')\n",
    "merged_data = pd.merge(event_categories_unique, event_listing, on=\"event_id\", how=\"left\")\n",
    "\n",
    "merged_data['new_category_name'] = merged_data['name'].apply(get_new_category_name)\n",
    "merged_data['concat_event_name'] = merged_data['title'] + \" \" + merged_data['snippet']\n",
    "\n",
    "smaller_df = merged_data[['new_category_name', 'concat_event_name']]\n",
    "smaller_df_cleaned = smaller_df.dropna(subset=['new_category_name', 'concat_event_name'])\n",
    "\n",
    "events = list(zip(smaller_df_cleaned['concat_event_name'], smaller_df_cleaned['new_category_name']))\n",
    "event_names, labels = zip(*events)"
   ]
  },
  {
   "cell_type": "code",
   "execution_count": 27,
   "id": "ba962411-168b-4a01-adaf-8f1636969806",
   "metadata": {
    "editable": true,
    "slideshow": {
     "slide_type": ""
    },
    "tags": []
   },
   "outputs": [
    {
     "ename": "ParserError",
     "evalue": "Error tokenizing data. C error: Expected 2 fields in line 2176, saw 6\n",
     "output_type": "error",
     "traceback": [
      "\u001b[1;31m---------------------------------------------------------------------------\u001b[0m",
      "\u001b[1;31mParserError\u001b[0m                               Traceback (most recent call last)",
      "Cell \u001b[1;32mIn[27], line 1\u001b[0m\n\u001b[1;32m----> 1\u001b[0m smaller \u001b[38;5;241m=\u001b[39m \u001b[43mpd\u001b[49m\u001b[38;5;241;43m.\u001b[39;49m\u001b[43mread_csv\u001b[49m\u001b[43m(\u001b[49m\u001b[38;5;124;43mr\u001b[39;49m\u001b[38;5;124;43m'\u001b[39;49m\u001b[38;5;124;43msmaller_dataframe.csv\u001b[39;49m\u001b[38;5;124;43m'\u001b[39;49m\u001b[43m)\u001b[49m\n\u001b[0;32m      2\u001b[0m \u001b[38;5;28mprint\u001b[39m(smaller_df\u001b[38;5;241m.\u001b[39mhead())\n\u001b[0;32m      5\u001b[0m \u001b[38;5;28mprint\u001b[39m(\u001b[38;5;124m\"\u001b[39m\u001b[38;5;124mEvent Names:\u001b[39m\u001b[38;5;124m\"\u001b[39m, event_names[:\u001b[38;5;241m5\u001b[39m])  \u001b[38;5;66;03m# Display first 5 event names\u001b[39;00m\n",
      "File \u001b[1;32m~\\AppData\\Roaming\\Python\\Python311\\site-packages\\pandas\\io\\parsers\\readers.py:948\u001b[0m, in \u001b[0;36mread_csv\u001b[1;34m(filepath_or_buffer, sep, delimiter, header, names, index_col, usecols, dtype, engine, converters, true_values, false_values, skipinitialspace, skiprows, skipfooter, nrows, na_values, keep_default_na, na_filter, verbose, skip_blank_lines, parse_dates, infer_datetime_format, keep_date_col, date_parser, date_format, dayfirst, cache_dates, iterator, chunksize, compression, thousands, decimal, lineterminator, quotechar, quoting, doublequote, escapechar, comment, encoding, encoding_errors, dialect, on_bad_lines, delim_whitespace, low_memory, memory_map, float_precision, storage_options, dtype_backend)\u001b[0m\n\u001b[0;32m    935\u001b[0m kwds_defaults \u001b[38;5;241m=\u001b[39m _refine_defaults_read(\n\u001b[0;32m    936\u001b[0m     dialect,\n\u001b[0;32m    937\u001b[0m     delimiter,\n\u001b[1;32m   (...)\u001b[0m\n\u001b[0;32m    944\u001b[0m     dtype_backend\u001b[38;5;241m=\u001b[39mdtype_backend,\n\u001b[0;32m    945\u001b[0m )\n\u001b[0;32m    946\u001b[0m kwds\u001b[38;5;241m.\u001b[39mupdate(kwds_defaults)\n\u001b[1;32m--> 948\u001b[0m \u001b[38;5;28;01mreturn\u001b[39;00m \u001b[43m_read\u001b[49m\u001b[43m(\u001b[49m\u001b[43mfilepath_or_buffer\u001b[49m\u001b[43m,\u001b[49m\u001b[43m \u001b[49m\u001b[43mkwds\u001b[49m\u001b[43m)\u001b[49m\n",
      "File \u001b[1;32m~\\AppData\\Roaming\\Python\\Python311\\site-packages\\pandas\\io\\parsers\\readers.py:617\u001b[0m, in \u001b[0;36m_read\u001b[1;34m(filepath_or_buffer, kwds)\u001b[0m\n\u001b[0;32m    614\u001b[0m     \u001b[38;5;28;01mreturn\u001b[39;00m parser\n\u001b[0;32m    616\u001b[0m \u001b[38;5;28;01mwith\u001b[39;00m parser:\n\u001b[1;32m--> 617\u001b[0m     \u001b[38;5;28;01mreturn\u001b[39;00m \u001b[43mparser\u001b[49m\u001b[38;5;241;43m.\u001b[39;49m\u001b[43mread\u001b[49m\u001b[43m(\u001b[49m\u001b[43mnrows\u001b[49m\u001b[43m)\u001b[49m\n",
      "File \u001b[1;32m~\\AppData\\Roaming\\Python\\Python311\\site-packages\\pandas\\io\\parsers\\readers.py:1748\u001b[0m, in \u001b[0;36mTextFileReader.read\u001b[1;34m(self, nrows)\u001b[0m\n\u001b[0;32m   1741\u001b[0m nrows \u001b[38;5;241m=\u001b[39m validate_integer(\u001b[38;5;124m\"\u001b[39m\u001b[38;5;124mnrows\u001b[39m\u001b[38;5;124m\"\u001b[39m, nrows)\n\u001b[0;32m   1742\u001b[0m \u001b[38;5;28;01mtry\u001b[39;00m:\n\u001b[0;32m   1743\u001b[0m     \u001b[38;5;66;03m# error: \"ParserBase\" has no attribute \"read\"\u001b[39;00m\n\u001b[0;32m   1744\u001b[0m     (\n\u001b[0;32m   1745\u001b[0m         index,\n\u001b[0;32m   1746\u001b[0m         columns,\n\u001b[0;32m   1747\u001b[0m         col_dict,\n\u001b[1;32m-> 1748\u001b[0m     ) \u001b[38;5;241m=\u001b[39m \u001b[38;5;28;43mself\u001b[39;49m\u001b[38;5;241;43m.\u001b[39;49m\u001b[43m_engine\u001b[49m\u001b[38;5;241;43m.\u001b[39;49m\u001b[43mread\u001b[49m\u001b[43m(\u001b[49m\u001b[43m  \u001b[49m\u001b[38;5;66;43;03m# type: ignore[attr-defined]\u001b[39;49;00m\n\u001b[0;32m   1749\u001b[0m \u001b[43m        \u001b[49m\u001b[43mnrows\u001b[49m\n\u001b[0;32m   1750\u001b[0m \u001b[43m    \u001b[49m\u001b[43m)\u001b[49m\n\u001b[0;32m   1751\u001b[0m \u001b[38;5;28;01mexcept\u001b[39;00m \u001b[38;5;167;01mException\u001b[39;00m:\n\u001b[0;32m   1752\u001b[0m     \u001b[38;5;28mself\u001b[39m\u001b[38;5;241m.\u001b[39mclose()\n",
      "File \u001b[1;32m~\\AppData\\Roaming\\Python\\Python311\\site-packages\\pandas\\io\\parsers\\c_parser_wrapper.py:234\u001b[0m, in \u001b[0;36mCParserWrapper.read\u001b[1;34m(self, nrows)\u001b[0m\n\u001b[0;32m    232\u001b[0m \u001b[38;5;28;01mtry\u001b[39;00m:\n\u001b[0;32m    233\u001b[0m     \u001b[38;5;28;01mif\u001b[39;00m \u001b[38;5;28mself\u001b[39m\u001b[38;5;241m.\u001b[39mlow_memory:\n\u001b[1;32m--> 234\u001b[0m         chunks \u001b[38;5;241m=\u001b[39m \u001b[38;5;28;43mself\u001b[39;49m\u001b[38;5;241;43m.\u001b[39;49m\u001b[43m_reader\u001b[49m\u001b[38;5;241;43m.\u001b[39;49m\u001b[43mread_low_memory\u001b[49m\u001b[43m(\u001b[49m\u001b[43mnrows\u001b[49m\u001b[43m)\u001b[49m\n\u001b[0;32m    235\u001b[0m         \u001b[38;5;66;03m# destructive to chunks\u001b[39;00m\n\u001b[0;32m    236\u001b[0m         data \u001b[38;5;241m=\u001b[39m _concatenate_chunks(chunks)\n",
      "File \u001b[1;32mparsers.pyx:843\u001b[0m, in \u001b[0;36mpandas._libs.parsers.TextReader.read_low_memory\u001b[1;34m()\u001b[0m\n",
      "File \u001b[1;32mparsers.pyx:904\u001b[0m, in \u001b[0;36mpandas._libs.parsers.TextReader._read_rows\u001b[1;34m()\u001b[0m\n",
      "File \u001b[1;32mparsers.pyx:879\u001b[0m, in \u001b[0;36mpandas._libs.parsers.TextReader._tokenize_rows\u001b[1;34m()\u001b[0m\n",
      "File \u001b[1;32mparsers.pyx:890\u001b[0m, in \u001b[0;36mpandas._libs.parsers.TextReader._check_tokenize_status\u001b[1;34m()\u001b[0m\n",
      "File \u001b[1;32mparsers.pyx:2058\u001b[0m, in \u001b[0;36mpandas._libs.parsers.raise_parser_error\u001b[1;34m()\u001b[0m\n",
      "\u001b[1;31mParserError\u001b[0m: Error tokenizing data. C error: Expected 2 fields in line 2176, saw 6\n"
     ]
    }
   ],
   "source": [
    "smaller = pd.read_csv(r'smaller_dataframe.csv')\n",
    "print(smaller_df.head())\n",
    "\n",
    "\n",
    "print(\"Event Names:\", event_names[:5])  # Display first 5 event names\n",
    "print(\"Labels:\", labels[:5])  # Display first 5 labels"
   ]
  },
  {
   "cell_type": "code",
   "execution_count": 15,
   "id": "764203b0-fab8-4f17-a725-b3dd097f4699",
   "metadata": {
    "editable": true,
    "slideshow": {
     "slide_type": ""
    },
    "tags": []
   },
   "outputs": [],
   "source": [
    "def preprocess_text(text):\n",
    "    if not isinstance(text, str):\n",
    "        text = str(text)\n",
    "\n",
    "    tokens = word_tokenize(text)\n",
    "    \n",
    "    stop_words = set(stopwords.words('english'))\n",
    "    tokens = [word for word in tokens if word.lower() not in stop_words]\n",
    "    \n",
    "    ps = PorterStemmer()\n",
    "    tokens = [ps.stem(word) for word in tokens]\n",
    "    \n",
    "    return ' '.join(tokens)\n",
    "\n",
    "event_names_preprocessed = [preprocess_text(name) for name in event_names]"
   ]
  },
  {
   "cell_type": "code",
   "execution_count": 16,
   "id": "f4340a24-3b68-499b-a1cb-18842c0be68c",
   "metadata": {
    "editable": true,
    "slideshow": {
     "slide_type": ""
    },
    "tags": []
   },
   "outputs": [
    {
     "name": "stdout",
     "output_type": "stream",
     "text": [
      "['bird walk new york botan garden divers habitat botan garden offer visitor chanc see dozen speci bird throughout year . bring binocular walk garden ground expert .', 'bird walk new york botan garden divers habitat botan garden offer visitor chanc see dozen speci bird throughout year . bring binocular walk garden ground expert .', 'bird walk new york botan garden divers habitat botan garden offer visitor chanc see dozen speci bird throughout year . bring binocular walk garden ground expert .', 'bird walk new york botan garden divers habitat botan garden offer visitor chanc see dozen speci bird throughout year . bring binocular walk garden ground expert .', 'bird walk new york botan garden divers habitat botan garden offer visitor chanc see dozen speci bird throughout year . bring binocular walk garden ground expert .']\n"
     ]
    },
    {
     "data": {
      "text/plain": [
       "('Birding', 'Birding', 'Birding', 'Birding', 'Birding')"
      ]
     },
     "execution_count": 16,
     "metadata": {},
     "output_type": "execute_result"
    }
   ],
   "source": [
    "print(event_names_preprocessed[:5])\n",
    "labels[:5]"
   ]
  },
  {
   "cell_type": "code",
   "execution_count": 17,
   "id": "d223cfdd-ef9b-4cb1-a92c-0dcac3320cf2",
   "metadata": {
    "editable": true,
    "slideshow": {
     "slide_type": ""
    },
    "tags": []
   },
   "outputs": [],
   "source": [
    "vectorizer = TfidfVectorizer(max_features=80)\n",
    "X = vectorizer.fit_transform(event_names_preprocessed)"
   ]
  },
  {
   "cell_type": "code",
   "execution_count": 21,
   "id": "3af9fe05-b628-48c6-a596-ad2bd5064d70",
   "metadata": {
    "editable": true,
    "slideshow": {
     "slide_type": ""
    },
    "tags": []
   },
   "outputs": [],
   "source": [
    "grouped_data = merged_data.groupby('new_category_name')\n",
    "train_data = []\n",
    "test_data = []\n",
    "\n",
    "for name, group in grouped_data:\n",
    "    selected_samples = group\n",
    "    \n",
    "    event_names_in_group = selected_samples['concat_event_name'].apply(preprocess_text)\n",
    "    labels_in_group = selected_samples['new_category_name']\n",
    "\n",
    "    X_group = vectorizer.transform(event_names_in_group)\n",
    "\n",
    "    X_train_group, X_test_group, y_train_group, y_test_group = train_test_split(X_group, labels_in_group, test_size=0.2, random_state=42)\n",
    "\n",
    "    train_data.extend(list(zip(X_train_group.toarray(), y_train_group)))\n",
    "    test_data.extend(list(zip(X_test_group.toarray(), y_test_group)))\n",
    "\n",
    "train_data_nltk = [(dict(enumerate(x)), y) for x, y in train_data]\n",
    "test_data_nltk = [(dict(enumerate(x)), y) for x, y in test_data]"
   ]
  },
  {
   "cell_type": "code",
   "execution_count": 22,
   "id": "63ad3d77-64da-4c30-ac75-16b560a02965",
   "metadata": {
    "editable": true,
    "slideshow": {
     "slide_type": ""
    },
    "tags": []
   },
   "outputs": [
    {
     "name": "stdout",
     "output_type": "stream",
     "text": [
      "Model accuracy: 0.5664324235986272\n"
     ]
    }
   ],
   "source": [
    "classifier = NaiveBayesClassifier.train(train_data_nltk)\n",
    "print(\"Model accuracy:\", accuracy(classifier, test_data_nltk))"
   ]
  },
  {
   "cell_type": "code",
   "execution_count": 23,
   "id": "c1541a0e-9bef-4f21-870f-5c91b1628d01",
   "metadata": {
    "editable": true,
    "slideshow": {
     "slide_type": ""
    },
    "tags": []
   },
   "outputs": [
    {
     "name": "stdout",
     "output_type": "stream",
     "text": [
      "                       precision    recall  f1-score   support\n",
      "\n",
      "           Accessible       0.29      0.55      0.38      1704\n",
      "                 Arts       0.40      0.88      0.55      2978\n",
      "            Astronomy       1.00      0.00      0.00        15\n",
      "              Birding       0.83      0.41      0.55       497\n",
      "              Camping       1.00      0.00      0.00         2\n",
      "     Community Events       1.00      0.00      0.00       210\n",
      "             Concerts       0.84      0.31      0.46       540\n",
      "Cultural Celebrations       1.00      0.00      0.00        15\n",
      "                Dance       0.96      0.35      0.51       327\n",
      "                 Dogs       1.00      0.00      0.00        34\n",
      "            Education       0.74      0.56      0.64      2108\n",
      "            Festivals       1.00      0.03      0.06       181\n",
      "                 Film       0.82      0.21      0.34       461\n",
      "              Fishing       1.00      0.00      0.00         4\n",
      "              Fitness       0.91      0.76      0.83      2660\n",
      "                 Food       1.00      0.00      0.00        92\n",
      "                Games       0.96      0.89      0.92       671\n",
      "               Hiking       1.00      0.00      0.00        17\n",
      "              History       0.75      0.29      0.41       516\n",
      "             Holidays       1.00      0.00      0.00        70\n",
      "                 Kids       0.80      0.56      0.66      1204\n",
      "              Markets       1.00      0.00      0.00       125\n",
      "               Nature       0.69      0.52      0.60      2033\n",
      "       Outdoor Movies       1.00      0.00      0.00        34\n",
      "              Seniors       1.00      0.00      0.00        89\n",
      "               Sports       0.98      0.20      0.33       258\n",
      "                Talks       1.00      0.00      0.00        74\n",
      "              Theater       1.00      0.05      0.09       207\n",
      "                Tours       1.00      0.08      0.15       153\n",
      "            Volunteer       0.75      0.52      0.62       936\n",
      "         Water Sports       1.00      0.00      0.00        31\n",
      "           Waterfront       1.00      0.00      0.00        47\n",
      "             Wildlife       1.00      0.00      0.00        35\n",
      "            Workshops       1.00      0.00      0.00        29\n",
      "\n",
      "             accuracy                           0.57     18357\n",
      "            macro avg       0.90      0.21      0.24     18357\n",
      "         weighted avg       0.71      0.57      0.56     18357\n",
      "\n"
     ]
    }
   ],
   "source": [
    "y_pred = [classifier.classify(x[0]) for x in test_data_nltk]\n",
    "y_true = [x[1] for x in test_data_nltk]\n",
    "\n",
    "# Encoding labels to use with classification_report\n",
    "label_encoder = LabelEncoder()\n",
    "y_true_encoded = label_encoder.fit_transform(y_true)\n",
    "y_pred_encoded = label_encoder.transform(y_pred)\n",
    "\n",
    "print(classification_report(y_true_encoded, y_pred_encoded, target_names=label_encoder.classes_, zero_division=1))"
   ]
  },
  {
   "cell_type": "code",
   "execution_count": null,
   "id": "ebf59544-c6c0-41ab-a443-6025cdb88581",
   "metadata": {
    "editable": true,
    "slideshow": {
     "slide_type": ""
    },
    "tags": []
   },
   "outputs": [],
   "source": []
  }
 ],
 "metadata": {
  "kernelspec": {
   "display_name": "Python 3 (ipykernel)",
   "language": "python",
   "name": "python3"
  },
  "language_info": {
   "codemirror_mode": {
    "name": "ipython",
    "version": 3
   },
   "file_extension": ".py",
   "mimetype": "text/x-python",
   "name": "python",
   "nbconvert_exporter": "python",
   "pygments_lexer": "ipython3",
   "version": "3.11.0"
  }
 },
 "nbformat": 4,
 "nbformat_minor": 5
}
