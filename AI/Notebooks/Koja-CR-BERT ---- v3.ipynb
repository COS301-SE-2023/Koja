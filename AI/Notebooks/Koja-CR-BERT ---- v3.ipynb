{
 "cells": [
  {
   "cell_type": "code",
   "execution_count": 39,
   "id": "c48adb31-2ee3-44fa-a540-b246a582fe3d",
   "metadata": {
    "editable": true,
    "slideshow": {
     "slide_type": ""
    },
    "tags": []
   },
   "outputs": [],
   "source": [
    "import pandas as pd\n",
    "import nltk\n",
    "from nltk.corpus import stopwords\n",
    "from nltk.tokenize import word_tokenize\n",
    "from nltk.stem import PorterStemmer\n",
    "from sklearn.model_selection import train_test_split\n",
    "from sklearn.metrics import classification_report\n",
    "from sklearn.preprocessing import LabelEncoder\n",
    "from transformers import BertTokenizer, TFBertModel\n",
    "from sklearn.linear_model import LogisticRegression\n",
    "import tensorflow as tf\n",
    "\n",
    "category_map = {\n",
    "    'Conference': 'Educational Events',\n",
    "    'Seminar': 'Educational Events',\n",
    "    'Training': 'Educational Events',\n",
    "    'Webinar': 'Online Events',\n",
    "    'Panel': 'Discussions & Panels',\n",
    "    'Keynote': 'Performances & Shows',\n",
    "    'Symposium': 'Discussions & Panels',\n",
    "    'Exhibition': 'Exhibitions & Fairs',\n",
    "    'Launch': 'Launch & Networking Events',\n",
    "    'Networking': 'Launch & Networking Events',\n",
    "    'Meeting': 'Discussions & Panels',\n",
    "    'Retreat': 'Retreats',\n",
    "    'Hackathon': 'Hackathons',\n",
    "    'Dinner': 'Food & Culinary Events',\n",
    "    'Charity': 'Charity & Fundraising Events',\n",
    "    'Fundraising': 'Charity & Fundraising Events',\n",
    "    'Awards': 'Awards & Recognition Events',\n",
    "    'Concert': 'Performances & Shows',\n",
    "    'Festival': 'Festivals',\n",
    "    'Performance': 'Performances & Shows',\n",
    "    'Theater': 'Performances & Shows',\n",
    "    'Screening': 'Other',\n",
    "    'Dance': 'Performances & Shows',\n",
    "    'Comedy': 'Performances & Shows',\n",
    "    'Sports': 'Sports & Fitness Events',\n",
    "    'Marathon': 'Sports & Fitness Events',\n",
    "    'Tournament': 'Sports & Fitness Events',\n",
    "    'Class': 'Special Occasions',\n",
    "    'Lecture': 'Educational Events',\n",
    "    'Reading': 'Educational Events',\n",
    "    'Poetry': 'Poetry & Literary Events',\n",
    "    'Fashion': 'Exhibitions & Fairs',\n",
    "    'Food': 'Food & Culinary Events',\n",
    "    'Tasting': 'Food & Culinary Events',\n",
    "    'Cultural': 'Religious & Cultural Events',\n",
    "    'Fair': 'Exhibitions & Fairs',\n",
    "    'Parade': 'Religious & Cultural Events',\n",
    "    'Wedding': 'Celebrations & Parties',\n",
    "    'Party': 'Celebrations & Parties',\n",
    "    'Anniversary': 'Celebrations & Parties',\n",
    "    'Birthday': 'Celebrations & Parties',\n",
    "    'Shower': 'Celebrations & Parties',\n",
    "    'Graduation': 'Celebrations & Parties',\n",
    "    'Reunion': 'Celebrations & Parties',\n",
    "    'Retirement': 'Celebrations & Parties',\n",
    "    'Holiday': 'Celebrations & Parties',\n",
    "    'Religious': 'Religious & Cultural Events',\n",
    "    'Run/Walk': 'Sports & Fitness Events',\n",
    "    'Volunteer': 'Community & Volunteer Events',\n",
    "    'Community': 'Community & Volunteer Events',\n",
    "    'Cleanup': 'Community & Volunteer Events',\n",
    "    'Rally': 'Community & Volunteer Events',\n",
    "    'Protest': 'Protests & Movements',\n",
    "    'Workshop': 'Educational Events',\n",
    "    'Recruitment': 'Recruitment & Mentorship',\n",
    "    'Mentorship': 'Recruitment & Mentorship',\n",
    "    'Auction': 'Charity & Fundraising Events',\n",
    "    'Cooking': 'Food & Culinary Events'\n",
    "}"
   ]
  },
  {
   "cell_type": "code",
   "execution_count": 40,
   "id": "a68fbc93-44df-43f9-9957-0745a5d91ebd",
   "metadata": {
    "editable": true,
    "slideshow": {
     "slide_type": ""
    },
    "tags": []
   },
   "outputs": [
    {
     "name": "stderr",
     "output_type": "stream",
     "text": [
      "[nltk_data] Downloading package punkt to\n",
      "[nltk_data]     C:\\Users\\vanzy\\AppData\\Roaming\\nltk_data...\n",
      "[nltk_data]   Package punkt is already up-to-date!\n",
      "[nltk_data] Downloading package stopwords to\n",
      "[nltk_data]     C:\\Users\\vanzy\\AppData\\Roaming\\nltk_data...\n",
      "[nltk_data]   Package stopwords is already up-to-date!\n"
     ]
    },
    {
     "data": {
      "text/plain": [
       "True"
      ]
     },
     "execution_count": 40,
     "metadata": {},
     "output_type": "execute_result"
    }
   ],
   "source": [
    "nltk.download('punkt')\n",
    "nltk.download('stopwords')"
   ]
  },
  {
   "cell_type": "code",
   "execution_count": 41,
   "id": "b9bd318f-d2cd-4127-9b8b-942a487d6c91",
   "metadata": {
    "editable": true,
    "slideshow": {
     "slide_type": ""
    },
    "tags": []
   },
   "outputs": [
    {
     "name": "stderr",
     "output_type": "stream",
     "text": [
      "Some weights of the PyTorch model were not used when initializing the TF 2.0 model TFBertModel: ['cls.seq_relationship.bias', 'cls.predictions.transform.LayerNorm.bias', 'cls.predictions.bias', 'cls.predictions.transform.LayerNorm.weight', 'cls.predictions.transform.dense.bias', 'cls.seq_relationship.weight', 'cls.predictions.transform.dense.weight']\n",
      "- This IS expected if you are initializing TFBertModel from a PyTorch model trained on another task or with another architecture (e.g. initializing a TFBertForSequenceClassification model from a BertForPreTraining model).\n",
      "- This IS NOT expected if you are initializing TFBertModel from a PyTorch model that you expect to be exactly identical (e.g. initializing a TFBertForSequenceClassification model from a BertForSequenceClassification model).\n",
      "All the weights of TFBertModel were initialized from the PyTorch model.\n",
      "If your task is similar to the task the model of the checkpoint was trained on, you can already use TFBertModel for predictions without further training.\n"
     ]
    }
   ],
   "source": [
    "tokenizer = BertTokenizer.from_pretrained('bert-base-uncased')\n",
    "model = TFBertModel.from_pretrained('bert-base-uncased')\n",
    "\n",
    "def bert_feature_extraction(text):\n",
    "    with tf.device('/GPU:0'):\n",
    "        inputs = tokenizer.encode_plus(text, return_tensors='tf', add_special_tokens=True, max_length=250, truncation=True, padding='max_length')\n",
    "        outputs = model(inputs)\n",
    "        return outputs.last_hidden_state[:,0,:].numpy()"
   ]
  },
  {
   "cell_type": "code",
   "execution_count": 42,
   "id": "b8acc025-f7d4-40c1-a067-7ab7ad19c32a",
   "metadata": {
    "editable": true,
    "slideshow": {
     "slide_type": ""
    },
    "tags": []
   },
   "outputs": [],
   "source": [
    "event_categories = pd.read_csv(r'C:\\Users\\vanzy\\OneDrive\\Documents\\GitHub\\Koja\\AI\\Notebooks\\Custom_Training_Data.csv')\n",
    "event_categories['category'] = event_categories['category'].str.strip()\n",
    "event_categories['category'] = event_categories['category'].map(category_map).fillna('Other')\n",
    "\n",
    "events = list(zip(event_categories['event_title'], event_categories['category']))\n",
    "event_names, labels = zip(*events)"
   ]
  },
  {
   "cell_type": "code",
   "execution_count": 43,
   "id": "ba962411-168b-4a01-adaf-8f1636969806",
   "metadata": {
    "editable": true,
    "slideshow": {
     "slide_type": ""
    },
    "tags": []
   },
   "outputs": [
    {
     "name": "stdout",
     "output_type": "stream",
     "text": [
      "Event Names: ('Global Data Science', 'The Future of Luxury', 'Smart Technology and Business Transformation', 'The Future of Inclusive Cloud Computing', 'Data Governance & Security')\n",
      "Labels: ('Educational Events', 'Educational Events', 'Educational Events', 'Educational Events', 'Educational Events')\n"
     ]
    }
   ],
   "source": [
    "print(\"Event Names:\", event_names[:5])  # Display first 5 event names\n",
    "print(\"Labels:\", labels[:5])  # Display first 5 labels"
   ]
  },
  {
   "cell_type": "code",
   "execution_count": 44,
   "id": "764203b0-fab8-4f17-a725-b3dd097f4699",
   "metadata": {
    "editable": true,
    "slideshow": {
     "slide_type": ""
    },
    "tags": []
   },
   "outputs": [],
   "source": [
    "def preprocess_text(text):\n",
    "    if not isinstance(text, str):\n",
    "        text = str(text)\n",
    "\n",
    "    tokens = word_tokenize(text)\n",
    "    \n",
    "    stop_words = set(stopwords.words('english'))\n",
    "    tokens = [word for word in tokens if word.lower() not in stop_words]\n",
    "    \n",
    "    ps = PorterStemmer()\n",
    "    tokens = [ps.stem(word) for word in tokens]\n",
    "    \n",
    "    return ' '.join(tokens)\n",
    "\n",
    "event_names_preprocessed = [preprocess_text(name) for name in event_names]"
   ]
  },
  {
   "cell_type": "code",
   "execution_count": 45,
   "id": "f4340a24-3b68-499b-a1cb-18842c0be68c",
   "metadata": {
    "editable": true,
    "slideshow": {
     "slide_type": ""
    },
    "tags": []
   },
   "outputs": [
    {
     "name": "stdout",
     "output_type": "stream",
     "text": [
      "['global data scienc', 'futur luxuri', 'smart technolog busi transform', 'futur inclus cloud comput', 'data govern & secur']\n"
     ]
    }
   ],
   "source": [
    "print(event_names_preprocessed[:5])"
   ]
  },
  {
   "cell_type": "code",
   "execution_count": 46,
   "id": "d223cfdd-ef9b-4cb1-a92c-0dcac3320cf2",
   "metadata": {
    "editable": true,
    "slideshow": {
     "slide_type": ""
    },
    "tags": []
   },
   "outputs": [],
   "source": [
    "grouped_data = event_categories.groupby('category')\n",
    "train_data = []\n",
    "test_data = []"
   ]
  },
  {
   "cell_type": "code",
   "execution_count": 47,
   "id": "3af9fe05-b628-48c6-a596-ad2bd5064d70",
   "metadata": {
    "editable": true,
    "slideshow": {
     "slide_type": ""
    },
    "tags": []
   },
   "outputs": [],
   "source": [
    "for name, group in grouped_data:\n",
    "    selected_samples = group\n",
    "\n",
    "    event_names_in_group = selected_samples['event_title'].apply(preprocess_text)\n",
    "    labels_in_group = selected_samples['category']\n",
    "\n",
    "    X_group = [bert_feature_extraction(text) for text in event_names_in_group]\n",
    "    X_group = [item[0] for item in X_group]\n",
    "\n",
    "    if len(X_group) > 1:\n",
    "        X_train_group, X_test_group, y_train_group, y_test_group = train_test_split(X_group, labels_in_group, test_size=0.2, random_state=42)\n",
    "        train_data.extend(list(zip(X_train_group, y_train_group)))\n",
    "        test_data.extend(list(zip(X_test_group, y_test_group)))\n",
    "    else:\n",
    "        # If there is only one sample in the group, add it to the training data\n",
    "        train_data.extend(list(zip(X_group, labels_in_group)))\n",
    "\n",
    "X_train, y_train = zip(*train_data)\n",
    "X_test, y_test = zip(*test_data)"
   ]
  },
  {
   "cell_type": "code",
   "execution_count": 48,
   "id": "63ad3d77-64da-4c30-ac75-16b560a02965",
   "metadata": {
    "editable": true,
    "slideshow": {
     "slide_type": ""
    },
    "tags": []
   },
   "outputs": [
    {
     "name": "stderr",
     "output_type": "stream",
     "text": [
      "C:\\Users\\vanzy\\AppData\\Roaming\\Python\\Python311\\site-packages\\sklearn\\linear_model\\_logistic.py:460: ConvergenceWarning: lbfgs failed to converge (status=1):\n",
      "STOP: TOTAL NO. of ITERATIONS REACHED LIMIT.\n",
      "\n",
      "Increase the number of iterations (max_iter) or scale the data as shown in:\n",
      "    https://scikit-learn.org/stable/modules/preprocessing.html\n",
      "Please also refer to the documentation for alternative solver options:\n",
      "    https://scikit-learn.org/stable/modules/linear_model.html#logistic-regression\n",
      "  n_iter_i = _check_optimize_result(\n"
     ]
    },
    {
     "data": {
      "text/html": [
       "<style>#sk-container-id-2 {color: black;}#sk-container-id-2 pre{padding: 0;}#sk-container-id-2 div.sk-toggleable {background-color: white;}#sk-container-id-2 label.sk-toggleable__label {cursor: pointer;display: block;width: 100%;margin-bottom: 0;padding: 0.3em;box-sizing: border-box;text-align: center;}#sk-container-id-2 label.sk-toggleable__label-arrow:before {content: \"▸\";float: left;margin-right: 0.25em;color: #696969;}#sk-container-id-2 label.sk-toggleable__label-arrow:hover:before {color: black;}#sk-container-id-2 div.sk-estimator:hover label.sk-toggleable__label-arrow:before {color: black;}#sk-container-id-2 div.sk-toggleable__content {max-height: 0;max-width: 0;overflow: hidden;text-align: left;background-color: #f0f8ff;}#sk-container-id-2 div.sk-toggleable__content pre {margin: 0.2em;color: black;border-radius: 0.25em;background-color: #f0f8ff;}#sk-container-id-2 input.sk-toggleable__control:checked~div.sk-toggleable__content {max-height: 200px;max-width: 100%;overflow: auto;}#sk-container-id-2 input.sk-toggleable__control:checked~label.sk-toggleable__label-arrow:before {content: \"▾\";}#sk-container-id-2 div.sk-estimator input.sk-toggleable__control:checked~label.sk-toggleable__label {background-color: #d4ebff;}#sk-container-id-2 div.sk-label input.sk-toggleable__control:checked~label.sk-toggleable__label {background-color: #d4ebff;}#sk-container-id-2 input.sk-hidden--visually {border: 0;clip: rect(1px 1px 1px 1px);clip: rect(1px, 1px, 1px, 1px);height: 1px;margin: -1px;overflow: hidden;padding: 0;position: absolute;width: 1px;}#sk-container-id-2 div.sk-estimator {font-family: monospace;background-color: #f0f8ff;border: 1px dotted black;border-radius: 0.25em;box-sizing: border-box;margin-bottom: 0.5em;}#sk-container-id-2 div.sk-estimator:hover {background-color: #d4ebff;}#sk-container-id-2 div.sk-parallel-item::after {content: \"\";width: 100%;border-bottom: 1px solid gray;flex-grow: 1;}#sk-container-id-2 div.sk-label:hover label.sk-toggleable__label {background-color: #d4ebff;}#sk-container-id-2 div.sk-serial::before {content: \"\";position: absolute;border-left: 1px solid gray;box-sizing: border-box;top: 0;bottom: 0;left: 50%;z-index: 0;}#sk-container-id-2 div.sk-serial {display: flex;flex-direction: column;align-items: center;background-color: white;padding-right: 0.2em;padding-left: 0.2em;position: relative;}#sk-container-id-2 div.sk-item {position: relative;z-index: 1;}#sk-container-id-2 div.sk-parallel {display: flex;align-items: stretch;justify-content: center;background-color: white;position: relative;}#sk-container-id-2 div.sk-item::before, #sk-container-id-2 div.sk-parallel-item::before {content: \"\";position: absolute;border-left: 1px solid gray;box-sizing: border-box;top: 0;bottom: 0;left: 50%;z-index: -1;}#sk-container-id-2 div.sk-parallel-item {display: flex;flex-direction: column;z-index: 1;position: relative;background-color: white;}#sk-container-id-2 div.sk-parallel-item:first-child::after {align-self: flex-end;width: 50%;}#sk-container-id-2 div.sk-parallel-item:last-child::after {align-self: flex-start;width: 50%;}#sk-container-id-2 div.sk-parallel-item:only-child::after {width: 0;}#sk-container-id-2 div.sk-dashed-wrapped {border: 1px dashed gray;margin: 0 0.4em 0.5em 0.4em;box-sizing: border-box;padding-bottom: 0.4em;background-color: white;}#sk-container-id-2 div.sk-label label {font-family: monospace;font-weight: bold;display: inline-block;line-height: 1.2em;}#sk-container-id-2 div.sk-label-container {text-align: center;}#sk-container-id-2 div.sk-container {/* jupyter's `normalize.less` sets `[hidden] { display: none; }` but bootstrap.min.css set `[hidden] { display: none !important; }` so we also need the `!important` here to be able to override the default hidden behavior on the sphinx rendered scikit-learn.org. See: https://github.com/scikit-learn/scikit-learn/issues/21755 */display: inline-block !important;position: relative;}#sk-container-id-2 div.sk-text-repr-fallback {display: none;}</style><div id=\"sk-container-id-2\" class=\"sk-top-container\"><div class=\"sk-text-repr-fallback\"><pre>LogisticRegression(max_iter=2000)</pre><b>In a Jupyter environment, please rerun this cell to show the HTML representation or trust the notebook. <br />On GitHub, the HTML representation is unable to render, please try loading this page with nbviewer.org.</b></div><div class=\"sk-container\" hidden><div class=\"sk-item\"><div class=\"sk-estimator sk-toggleable\"><input class=\"sk-toggleable__control sk-hidden--visually\" id=\"sk-estimator-id-2\" type=\"checkbox\" checked><label for=\"sk-estimator-id-2\" class=\"sk-toggleable__label sk-toggleable__label-arrow\">LogisticRegression</label><div class=\"sk-toggleable__content\"><pre>LogisticRegression(max_iter=2000)</pre></div></div></div></div></div>"
      ],
      "text/plain": [
       "LogisticRegression(max_iter=2000)"
      ]
     },
     "execution_count": 48,
     "metadata": {},
     "output_type": "execute_result"
    }
   ],
   "source": [
    "classifier = LogisticRegression(max_iter=2000)\n",
    "classifier.fit(X_train, y_train)"
   ]
  },
  {
   "cell_type": "code",
   "execution_count": 49,
   "id": "c1541a0e-9bef-4f21-870f-5c91b1628d01",
   "metadata": {
    "editable": true,
    "slideshow": {
     "slide_type": ""
    },
    "tags": []
   },
   "outputs": [
    {
     "name": "stdout",
     "output_type": "stream",
     "text": [
      "                              precision    recall  f1-score   support\n",
      "\n",
      " Awards & Recognition Events       0.94      0.76      0.84        21\n",
      "      Celebrations & Parties       0.58      0.66      0.62       196\n",
      "Charity & Fundraising Events       0.88      0.86      0.87        49\n",
      "Community & Volunteer Events       0.56      0.64      0.60        99\n",
      "        Discussions & Panels       0.77      0.74      0.75        91\n",
      "          Educational Events       0.64      0.62      0.63        94\n",
      "         Exhibitions & Fairs       0.57      0.53      0.55        73\n",
      "                   Festivals       0.77      0.77      0.77        31\n",
      "      Food & Culinary Events       0.71      0.75      0.73       106\n",
      "                  Hackathons       0.38      0.29      0.32        21\n",
      "  Launch & Networking Events       0.48      0.51      0.50        49\n",
      "               Online Events       0.73      0.69      0.71        35\n",
      "                       Other       0.83      0.83      0.83       115\n",
      "        Performances & Shows       0.55      0.64      0.59       130\n",
      "    Poetry & Literary Events       0.47      0.44      0.45        32\n",
      "        Protests & Movements       0.95      0.70      0.81        30\n",
      "    Recruitment & Mentorship       0.86      0.93      0.89        58\n",
      " Religious & Cultural Events       0.50      0.44      0.47        70\n",
      "                    Retreats       0.65      0.35      0.46        31\n",
      "           Special Occasions       0.59      0.48      0.53        21\n",
      "     Sports & Fitness Events       0.95      0.80      0.87        89\n",
      "\n",
      "                    accuracy                           0.67      1441\n",
      "                   macro avg       0.68      0.64      0.66      1441\n",
      "                weighted avg       0.68      0.67      0.67      1441\n",
      "\n"
     ]
    }
   ],
   "source": [
    "y_pred = classifier.predict(X_test)\n",
    "\n",
    "label_encoder = LabelEncoder()\n",
    "y_true_encoded = label_encoder.fit_transform(y_test)\n",
    "y_pred_encoded = label_encoder.transform(y_pred)\n",
    "\n",
    "print(classification_report(y_true_encoded, y_pred_encoded, target_names=label_encoder.classes_, zero_division=1))"
   ]
  },
  {
   "cell_type": "code",
   "execution_count": 50,
   "id": "065bb472-4766-4708-8a70-561898c33216",
   "metadata": {},
   "outputs": [
    {
     "data": {
      "text/plain": [
       "['KOJA-CR.joblib']"
      ]
     },
     "execution_count": 50,
     "metadata": {},
     "output_type": "execute_result"
    }
   ],
   "source": [
    "from joblib import dump\n",
    "\n",
    "# Save the model to a file\n",
    "dump(classifier, 'KOJA-CR.joblib')"
   ]
  },
  {
   "cell_type": "code",
   "execution_count": null,
   "id": "b36f7f35-7284-418c-aa6e-083aed35c2d9",
   "metadata": {},
   "outputs": [],
   "source": []
  }
 ],
 "metadata": {
  "kernelspec": {
   "display_name": "Python 3 (ipykernel)",
   "language": "python",
   "name": "python3"
  },
  "language_info": {
   "codemirror_mode": {
    "name": "ipython",
    "version": 3
   },
   "file_extension": ".py",
   "mimetype": "text/x-python",
   "name": "python",
   "nbconvert_exporter": "python",
   "pygments_lexer": "ipython3",
   "version": "3.11.0"
  }
 },
 "nbformat": 4,
 "nbformat_minor": 5
}
