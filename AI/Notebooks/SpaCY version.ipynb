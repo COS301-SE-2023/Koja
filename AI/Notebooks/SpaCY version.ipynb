{
 "cells": [
  {
   "cell_type": "code",
   "execution_count": 1,
   "id": "1da7b7bd-8039-4bb3-9e51-beb4ba7fcbc1",
   "metadata": {},
   "outputs": [],
   "source": [
    "import spacy\n",
    "import pandas as pd\n",
    "from sklearn.model_selection import train_test_split\n",
    "from sklearn.metrics import classification_report\n",
    "from sklearn.preprocessing import LabelEncoder"
   ]
  },
  {
   "cell_type": "code",
   "execution_count": 2,
   "id": "ba7263fa-3a3b-42c5-bb1c-debb9f5323d2",
   "metadata": {},
   "outputs": [],
   "source": [
    "# Load the spaCy model\n",
    "nlp = spacy.load('en_core_web_sm')\n",
    "\n",
    "category_map = {\n",
    "    'Birding': 'Birding',\n",
    "    'Nature': 'Nature',\n",
    "    'Arts & Crafts': 'Arts',\n",
    "    'Concerts': 'Concerts',\n",
    "    'Dance': 'Dance',\n",
    "    'Best for Kids': 'Kids',\n",
    "    'Free Summer Concerts': 'Concerts',\n",
    "    'Games': 'Games',\n",
    "    'Volunteer': 'Volunteer',\n",
    "    'Waterfront': 'Waterfront',\n",
    "    'Fitness': 'Fitness',\n",
    "    'Food': 'Food',\n",
    "    'Outdoor Fitness': 'Fitness',\n",
    "    'Education': 'Education',\n",
    "    'Festivals': 'Festivals',\n",
    "    'Fall Festivals': 'Festivals',\n",
    "    'GreenThumb Events': 'Community Events',\n",
    "    'GreenThumb Workshops': 'Workshops',\n",
    "    'GreenThumb Partner Events': 'Community Events',\n",
    "    'History': 'History',\n",
    "    'Tours': 'Tours',\n",
    "    'Northern Manhattan Parks': 'Nature',\n",
    "    'Fort Tryon Park Trust': 'Nature',\n",
    "    'Talks': 'Talks',\n",
    "    'Art': 'Arts',\n",
    "    'Dogs': 'Dogs',\n",
    "    'MillionTreesNYC: Volunteer: Tree Stewardship and Care': 'Volunteer',\n",
    "    'Historic House Trust Sites': 'History',\n",
    "    'Seniors': 'Seniors',\n",
    "    'Halloween': 'Holidays',\n",
    "    'Freshkills Park': 'Nature',\n",
    "    'Freshkills Featured Events': 'Community Events',\n",
    "    'Freshkills Tours': 'Tours',\n",
    "    'Theater': 'Theater',\n",
    "    'Film': 'Film',\n",
    "    'MillionTreesNYC: Volunteer: Tree Planting': 'Volunteer',\n",
    "    'Historic House Trust Festival': 'Festivals',\n",
    "    'Sports': 'Sports',\n",
    "    'Astronomy': 'Astronomy',\n",
    "    'Arts, Culture & Fun Series': 'Arts',\n",
    "    'Pumpkin Fest': 'Festivals',\n",
    "    'Winter Holidays': 'Holidays',\n",
    "    'Fall Foliage': 'Nature',\n",
    "    'Accessible': 'Accessible',\n",
    "    'Reforestation Stewardship': 'Nature',\n",
    "    \"It's My Park\": 'Nature',\n",
    "    'Urban Park Rangers': 'Community Events',\n",
    "    'Thanksgiving': 'Holidays',\n",
    "    \"New Year's Eve\": 'Holidays',\n",
    "    'Poe Park Visitor Center': 'Nature',\n",
    "    'City Parks Foundation': 'Community Events',\n",
    "    'Markets': 'Markets',\n",
    "    'Black History Month': 'Cultural Celebrations',\n",
    "    \"Saint Patrick's Day\": 'Cultural Celebrations',\n",
    "    \"Valentine's Day\": 'Cultural Celebrations',\n",
    "    'Bike Month NYC': 'Sports',\n",
    "    'Earth Day & Arbor Day': 'Cultural Celebrations',\n",
    "    'Girls and Women in Sports': 'Sports',\n",
    "    \"Women's History Month\": 'Cultural Celebrations',\n",
    "    'Easter': 'Cultural Celebrations',\n",
    "    'Fishing': 'Fishing',\n",
    "    \"Mother's Day\": 'Cultural Celebrations',\n",
    "    'Summer on the Hudson': 'Water Sports',\n",
    "    'Free Summer Movies': 'Film',\n",
    "    'Free Summer Theater': 'Theater',\n",
    "    'Shape Up New York': 'Fitness',\n",
    "    'Learn To Ride': 'Sports',\n",
    "    'Holiday Lightings': 'Holidays',\n",
    "    'School Break': 'Kids',\n",
    "    'Kids Week': 'Kids',\n",
    "    'Kayaking and Canoeing': 'Water Sports',\n",
    "    \"Father's Day\": 'Cultural Celebrations',\n",
    "    'SummerStage': 'Concerts',\n",
    "    'CityParks Kids Arts': 'Kids',\n",
    "    'Mobile Recreation Van Event': 'Community Events',\n",
    "    'Wildflower Week': 'Nature',\n",
    "    'Fourth of July': 'Cultural Celebrations',\n",
    "    'LGBTQ Pride Month': 'Cultural Celebrations',\n",
    "    'Partnerships for Parks Tree Workshops': 'Workshops',\n",
    "    'Martin Luther King Jr. Day of Service': 'Cultural Celebrations',\n",
    "    'Open House New York': 'Community Events',\n",
    "    'Shakespeare in the Parks': 'Theater',\n",
    "    'Running': 'Sports',\n",
    "    'Forest Park Trust': 'Nature',\n",
    "    'Summer Sports Experience': 'Sports',\n",
    "    'Bocce Tournament': 'Games',\n",
    "    \"Santa's Coming to Town\": 'Holidays',\n",
    "    'City Parks Foundation Adults': 'Community Events',\n",
    "    'Partnerships for Parks Training and Grant Deadlines': 'Community Events',\n",
    "    'Community Input Meetings': 'Community Events',\n",
    "    'D/M/WBE': 'Community Events',\n",
    "    'Lunar New Year': 'Cultural Celebrations',\n",
    "    'Hiking': 'Hiking',\n",
    "    'Family Camping': 'Camping',\n",
    "    'Fireworks': 'Holidays',\n",
    "    'Ocean Breeze Summer Fitness': 'Fitness',\n",
    "    'Wildlife': 'Wildlife',\n",
    "    'Movies Under the Stars': 'Outdoor Movies',\n",
    "    'National Night Out': 'Community Events',\n",
    "    'Ocean Breeze Track & Field Athletic Complex': 'Sports',\n",
    "    'Living With Deer in New York City': 'Wildlife',\n",
    "    'Bronx River Greenway': 'Nature',\n",
    "    'Cherry Blossom Festivals': 'Festivals',\n",
    "    'CityParks PuppetMobile': 'Kids',\n",
    "    'Art in the Parks: UNIQLO Park Expressions Grant': 'Arts',\n",
    "    'Parks Without Borders': 'Nature',\n",
    "    'Community Parks Initiative': 'Community Events',\n",
    "    'Anchor Parks': 'Nature',\n",
    "    \"She's On Point\": 'Sports',\n",
    "    'National Trails Day': 'Nature',\n",
    "    'NYC Parks Senior Games': 'Sports',\n",
    "    'Hispanic Heritage Month': 'Cultural Celebrations',\n",
    "    'City of Water Day': 'Cultural Celebrations',\n",
    "    'Art in the Parks: Celebrating 50 Years': 'Arts',\n",
    "    'Brooklyn Beach Sports Festival': 'Sports',\n",
    "    'Youth Tech Workshops': 'Workshops',\n",
    "    'Native American Heritage Month': 'Cultural Celebrations',\n",
    "    'GreenThumb 40th Anniversary': 'Community Events',\n",
    "    'My Summer House NYC': 'Community Events',\n",
    "    'Rockaway Beach': 'Waterfront',\n",
    "    'Cool Pools NYC': 'Community Events',\n",
    "    'Recreation Center Open House': 'Community Events',\n",
    "    'Workshops': 'Workshops',\n",
    "    'Dogs in Parks: Town Hall': 'Community Events',\n",
    "    'Summer Solstice Celebrations': 'Cultural Celebrations',\n",
    "    'Veterans Day': 'Cultural Celebrations',\n",
    "}"
   ]
  },
  {
   "cell_type": "code",
   "execution_count": 3,
   "id": "3326f08d-33db-46d9-bc48-110f18fb0d05",
   "metadata": {},
   "outputs": [
    {
     "data": {
      "text/plain": [
       "1"
      ]
     },
     "execution_count": 3,
     "metadata": {},
     "output_type": "execute_result"
    }
   ],
   "source": [
    "def get_new_category_name(old_category_name):\n",
    "    return category_map.get(old_category_name, \"Other\")\n",
    "\n",
    "if \"textcat\" not in nlp.pipe_names:\n",
    "    textcat = nlp.add_pipe('textcat', last=True)\n",
    "else:\n",
    "    textcat = nlp.get_pipe('textcat')\n",
    "\n",
    "for label in category_map.values():\n",
    "    textcat.add_label(label)\n",
    "textcat.add_label(\"Other\")"
   ]
  },
  {
   "cell_type": "code",
   "execution_count": 4,
   "id": "e53845ef-9973-4cc7-a8f0-f0cb1c040921",
   "metadata": {},
   "outputs": [],
   "source": [
    "def preprocess_text(text):\n",
    "    if not isinstance(text, str):\n",
    "        text = str(text)\n",
    "    \n",
    "    doc = nlp.make_doc(text)\n",
    "    tokens = [token.text for token in doc if not token.is_stop]\n",
    "\n",
    "    return ' '.join(tokens)"
   ]
  },
  {
   "cell_type": "code",
   "execution_count": 5,
   "id": "fe9985ae-8a15-44d1-a0db-23a92702e5fe",
   "metadata": {},
   "outputs": [],
   "source": [
    "event_categories = pd.read_csv(r'C:\\Users\\vanzy\\OneDrive\\Documents\\Notebooks\\NYC_Parks_Events_Listing___Event_Categories.csv')\n",
    "event_categories_unique = event_categories.drop_duplicates(subset='event_id')\n",
    "event_listing = pd.read_csv(r'C:\\Users\\vanzy\\OneDrive\\Documents\\Notebooks\\NYC_Parks_Events_Listing___Event_Listing.csv')\n",
    "merged_data = pd.merge(event_categories_unique, event_listing, on=\"event_id\", how=\"left\")\n",
    "merged_data_cleaned = merged_data.dropna()\n",
    "\n",
    "merged_data_cleaned = merged_data_cleaned.copy()\n",
    "merged_data_cleaned.loc[:, 'new_category_name'] = merged_data_cleaned['name'].apply(get_new_category_name)\n",
    "merged_data_cleaned.loc[:, 'concat_event_name'] = merged_data_cleaned['title'] + \" \" + merged_data_cleaned['snippet']\n",
    "\n",
    "event_names = merged_data_cleaned['concat_event_name'].apply(preprocess_text)\n",
    "labels = merged_data_cleaned['new_category_name']\n",
    "events = list(zip(event_names, labels))"
   ]
  },
  {
   "cell_type": "code",
   "execution_count": 6,
   "id": "c2b63eb3-b98c-4be6-989a-3ab37835bc1f",
   "metadata": {},
   "outputs": [
    {
     "name": "stdout",
     "output_type": "stream",
     "text": [
      "0        Bird Walks New York Botanical Garden diverse h...\n",
      "1        Bird Walks New York Botanical Garden diverse h...\n",
      "2        Bird Walks New York Botanical Garden diverse h...\n",
      "3        Bird Walks New York Botanical Garden diverse h...\n",
      "4        Bird Walks New York Botanical Garden diverse h...\n",
      "                               ...                        \n",
      "91597    Central Park Tour : Iconic Views Central Park ...\n",
      "91615    Battle Brooklyn Neighborhood Walk Walk Battle ...\n",
      "91618    Central Park Tour : Iconic Views Central Park ...\n",
      "91644    Central Park Tour : Iconic Views Central Park ...\n",
      "91679    Central Park Tour : Iconic Views Central Park ...\n",
      "Name: concat_event_name, Length: 1461, dtype: object\n",
      "0        Birding\n",
      "1        Birding\n",
      "2        Birding\n",
      "3        Birding\n",
      "4        Birding\n",
      "          ...   \n",
      "91597      Tours\n",
      "91615    History\n",
      "91618      Tours\n",
      "91644      Tours\n",
      "91679      Tours\n",
      "Name: new_category_name, Length: 1461, dtype: object\n"
     ]
    }
   ],
   "source": [
    "print(event_names)\n",
    "print(labels)"
   ]
  },
  {
   "cell_type": "code",
   "execution_count": 11,
   "id": "be53628c-34fb-4a02-8939-4417b504160f",
   "metadata": {},
   "outputs": [],
   "source": [
    "def prepare_spacy_data(data, textcat_labels):\n",
    "    processing = []\n",
    "    for text, cat in data:\n",
    "        categories = {label: 1.0 if label == cat else 0.0 for label in textcat_labels}\n",
    "        processing.append((text, {\"cats\": categories}))\n",
    "    return processing\n",
    "\n",
    "grouped_data = merged_data_cleaned.groupby('new_category_name')\n",
    "train_data = []\n",
    "test_data = []"
   ]
  },
  {
   "cell_type": "code",
   "execution_count": 12,
   "id": "fae10218-d653-423d-b7da-eb5285f9247a",
   "metadata": {},
   "outputs": [],
   "source": [
    "for name, group in grouped_data:\n",
    "    event_names_in_group = group['concat_event_name'].apply(preprocess_text)\n",
    "    labels_in_group = group['new_category_name']\n",
    "\n",
    "    data_group = list(zip(event_names_in_group, labels_in_group))\n",
    "    \n",
    "    data_group_spacy = prepare_spacy_data(data_group, textcat.labels)\n",
    "\n",
    "    if len(data_group_spacy) > 1:\n",
    "        train_data_group, test_data_group = train_test_split(data_group_spacy, test_size=0.2, random_state=42)\n",
    "        train_data.extend(train_data_group)\n",
    "        test_data.extend(test_data_group)\n",
    "    else:\n",
    "        train_data.extend(data_group_spacy)"
   ]
  },
  {
   "cell_type": "code",
   "execution_count": 13,
   "id": "5f3a0309-9985-4860-8a8f-6736597f0feb",
   "metadata": {
    "scrolled": true
   },
   "outputs": [
    {
     "name": "stdout",
     "output_type": "stream",
     "text": [
      "Epoch 1, Losses: {'tok2vec': 0.0, 'tagger': 0.0, 'parser': 0.0, 'ner': 0.0, 'textcat': 2.9385533751919866}\n",
      "Epoch 2, Losses: {'tok2vec': 0.0, 'tagger': 0.0, 'parser': 0.0, 'ner': 0.0, 'textcat': 2.3609398249536753}\n",
      "Epoch 3, Losses: {'tok2vec': 0.0, 'tagger': 0.0, 'parser': 0.0, 'ner': 0.0, 'textcat': 2.164577564690262}\n",
      "Epoch 4, Losses: {'tok2vec': 0.0, 'tagger': 0.0, 'parser': 0.0, 'ner': 0.0, 'textcat': 2.027113255811855}\n",
      "Epoch 5, Losses: {'tok2vec': 0.0, 'tagger': 0.0, 'parser': 0.0, 'ner': 0.0, 'textcat': 1.9883351824246347}\n",
      "Epoch 6, Losses: {'tok2vec': 0.0, 'tagger': 0.0, 'parser': 0.0, 'ner': 0.0, 'textcat': 1.9208818479346519}\n",
      "Epoch 7, Losses: {'tok2vec': 0.0, 'tagger': 0.0, 'parser': 0.0, 'ner': 0.0, 'textcat': 1.8621944973128848}\n",
      "Epoch 8, Losses: {'tok2vec': 0.0, 'tagger': 0.0, 'parser': 0.0, 'ner': 0.0, 'textcat': 1.8305297811166383}\n",
      "Epoch 9, Losses: {'tok2vec': 0.0, 'tagger': 0.0, 'parser': 0.0, 'ner': 0.0, 'textcat': 1.8210100555988902}\n",
      "Epoch 10, Losses: {'tok2vec': 0.0, 'tagger': 0.0, 'parser': 0.0, 'ner': 0.0, 'textcat': 1.8289802649128433}\n"
     ]
    }
   ],
   "source": [
    "from spacy.training import Example\n",
    "from spacy.util import minibatch\n",
    "import random\n",
    "\n",
    "random.seed(42)\n",
    "spacy.util.fix_random_seed(42)\n",
    "\n",
    "# Create a function to generate training data examples\n",
    "def get_examples():\n",
    "    for text, annotations in train_data:\n",
    "        yield Example.from_dict(nlp.make_doc(text), annotations)\n",
    "\n",
    "# Initialize the model with the training data\n",
    "nlp.initialize(get_examples)\n",
    "\n",
    "optimizer = nlp.create_optimizer()\n",
    "\n",
    "n_iter = 10\n",
    "for epoch in range(n_iter):\n",
    "    random.shuffle(train_data)\n",
    "    losses = {}\n",
    "    batches = minibatch(train_data, size=8)\n",
    "    for batch in batches:\n",
    "        texts, annotations = zip(*batch)\n",
    "        examples = [Example.from_dict(nlp.make_doc(text), annot) for text, annot in zip(texts, annotations)]\n",
    "        nlp.update(examples, sgd=optimizer, losses=losses)\n",
    "    print(f\"Epoch {epoch + 1}, Losses: {losses}\")\n"
   ]
  },
  {
   "cell_type": "code",
   "execution_count": 17,
   "id": "1a818241-17c9-4f3b-8dd1-2302f841d679",
   "metadata": {},
   "outputs": [],
   "source": [
    "def evaluate_model(tokenizer, textcat, texts, cats):\n",
    "    docs = (tokenizer(text) for text in texts)\n",
    "    tp = 0.0  # True positives\n",
    "    fp = 1e-8  # False positives\n",
    "    fn = 1e-8  # False negatives\n",
    "    tn = 0.0  # True negatives\n",
    "    for i, doc in enumerate(textcat.pipe(docs)):\n",
    "        gold = cats[i]\n",
    "        for label, score in doc.cats.items():\n",
    "            if label not in gold:\n",
    "                continue\n",
    "            print(f\"Label: {label}, Score: {score}, Gold: {gold[label]}\")  # Debug information\n",
    "            if score >= 0.5 and gold[label] >= 0.5:\n",
    "                tp += 1.0\n",
    "            elif score >= 0.5 and gold[label] < 0.5:\n",
    "                fp += 1.0\n",
    "            elif score < 0.5 and gold[label] < 0.5:\n",
    "                tn += 1\n",
    "            elif score < 0.5 and gold[label] >= 0.5:\n",
    "                fn += 1\n",
    "    precision = tp / (tp + fp)\n",
    "    recall = tp / (tp + fn)\n",
    "    if precision + recall == 0:\n",
    "        f_score = 0.0\n",
    "    else:\n",
    "        f_score = 2 * (precision * recall) / (precision + recall)\n",
    "    return {'textcat_p': precision, 'textcat_r': recall, 'textcat_f': f_score}"
   ]
  },
  {
   "cell_type": "code",
   "execution_count": 18,
   "id": "eb5fcc2d-4af1-405b-8a8c-94c1b20dd103",
   "metadata": {},
   "outputs": [
    {
     "name": "stdout",
     "output_type": "stream",
     "text": [
      "{'textcat_p': 0.0, 'textcat_r': 0.0, 'textcat_f': 0.0}\n"
     ]
    }
   ],
   "source": [
    "test_texts, test_cats = zip(*test_data)\n",
    "scores = evaluate_model(nlp.tokenizer, textcat, test_texts, test_cats)\n",
    "print(scores)"
   ]
  },
  {
   "cell_type": "code",
   "execution_count": 30,
   "id": "d1cc9f42-c7e5-4a7b-8505-e7b60c976412",
   "metadata": {},
   "outputs": [
    {
     "name": "stdout",
     "output_type": "stream",
     "text": [
      "                       precision    recall  f1-score   support\n",
      "\n",
      "              Birding       1.00      1.00      1.00         7\n",
      "               Nature       0.72      0.62      0.67        55\n",
      "                 Arts       0.85      1.00      0.92        39\n",
      "             Concerts       0.60      1.00      0.75         3\n",
      "                Dance       1.00      0.67      0.80         3\n",
      "                 Kids       0.29      0.40      0.33         5\n",
      "                Games       1.00      0.67      0.80         3\n",
      "            Volunteer       0.67      1.00      0.80         2\n",
      "           Waterfront       1.00      1.00      1.00         0\n",
      "              Fitness       0.57      0.67      0.62         6\n",
      "                 Food       1.00      0.00      0.00         2\n",
      "            Education       0.47      0.84      0.60        77\n",
      "            Festivals       0.33      1.00      0.50         1\n",
      "     Community Events       0.33      0.40      0.36         5\n",
      "            Workshops       1.00      1.00      1.00         0\n",
      "              History       0.33      0.10      0.16        29\n",
      "                Tours       0.40      0.05      0.10        37\n",
      "                Talks       1.00      0.00      0.00         1\n",
      "                 Dogs       1.00      0.00      0.00         1\n",
      "              Seniors       1.00      0.00      0.00         9\n",
      "             Holidays       1.00      0.00      0.00         3\n",
      "              Theater       1.00      1.00      1.00         0\n",
      "                 Film       1.00      1.00      1.00         0\n",
      "               Sports       0.33      0.67      0.44         3\n",
      "            Astronomy       1.00      1.00      1.00         0\n",
      "           Accessible       0.62      0.62      0.62         8\n",
      "              Markets       1.00      0.00      0.00         1\n",
      "Cultural Celebrations       1.00      1.00      1.00         0\n",
      "              Fishing       1.00      1.00      1.00         0\n",
      "         Water Sports       1.00      0.00      0.00         1\n",
      "               Hiking       1.00      1.00      1.00         0\n",
      "              Camping       1.00      1.00      1.00         0\n",
      "             Wildlife       1.00      1.00      1.00         0\n",
      "       Outdoor Movies       1.00      1.00      1.00         0\n",
      "                Other       1.00      1.00      1.00         0\n",
      "\n",
      "            micro avg       0.58      0.58      0.58       301\n",
      "            macro avg       0.81      0.65      0.61       301\n",
      "         weighted avg       0.60      0.58      0.52       301\n",
      "\n"
     ]
    }
   ],
   "source": [
    "from sklearn.metrics import classification_report\n",
    "\n",
    "# Get the true labels and the predicted labels from the model\n",
    "true_labels = [max(cat['cats'], key=cat['cats'].get) for cat in test_cats]\n",
    "predicted_labels = [max(doc.cats, key=doc.cats.get) for doc in textcat.pipe(nlp.tokenizer.pipe(test_texts))]\n",
    "\n",
    "# Get the labels from the textcat\n",
    "labels = list(textcat.labels)\n",
    "\n",
    "# Print the classification report\n",
    "print(classification_report(true_labels, predicted_labels, labels=labels, zero_division=1))\n"
   ]
  },
  {
   "cell_type": "code",
   "execution_count": 28,
   "id": "b02bd64b-ffa9-4df2-91a0-7a7b55dd15b1",
   "metadata": {},
   "outputs": [
    {
     "name": "stdout",
     "output_type": "stream",
     "text": [
      "('Birding', 'Nature', 'Arts', 'Concerts', 'Dance', 'Kids', 'Games', 'Volunteer', 'Waterfront', 'Fitness', 'Food', 'Education', 'Festivals', 'Community Events', 'Workshops', 'History', 'Tours', 'Talks', 'Dogs', 'Seniors', 'Holidays', 'Theater', 'Film', 'Sports', 'Astronomy', 'Accessible', 'Markets', 'Cultural Celebrations', 'Fishing', 'Water Sports', 'Hiking', 'Camping', 'Wildlife', 'Outdoor Movies', 'Other')\n"
     ]
    }
   ],
   "source": [
    "print(textcat.labels)"
   ]
  },
  {
   "cell_type": "code",
   "execution_count": null,
   "id": "fec5a344-c4bd-4721-bf10-83224fd48ba6",
   "metadata": {},
   "outputs": [],
   "source": []
  }
 ],
 "metadata": {
  "kernelspec": {
   "display_name": "Python 3 (ipykernel)",
   "language": "python",
   "name": "python3"
  },
  "language_info": {
   "codemirror_mode": {
    "name": "ipython",
    "version": 3
   },
   "file_extension": ".py",
   "mimetype": "text/x-python",
   "name": "python",
   "nbconvert_exporter": "python",
   "pygments_lexer": "ipython3",
   "version": "3.11.0"
  }
 },
 "nbformat": 4,
 "nbformat_minor": 5
}
